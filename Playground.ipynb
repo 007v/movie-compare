{
 "cells": [
  {
   "cell_type": "code",
   "execution_count": 1,
   "metadata": {
    "collapsed": false
   },
   "outputs": [
    {
     "name": "stderr",
     "output_type": "stream",
     "text": [
      "D:\\Anaconda2\\lib\\site-packages\\IPython\\core\\formatters.py:92: DeprecationWarning: DisplayFormatter._ipython_display_formatter_default is deprecated: use @default decorator instead.\n",
      "  def _ipython_display_formatter_default(self):\n",
      "D:\\Anaconda2\\lib\\site-packages\\IPython\\core\\formatters.py:669: DeprecationWarning: PlainTextFormatter._singleton_printers_default is deprecated: use @default decorator instead.\n",
      "  def _singleton_printers_default(self):\n"
     ]
    },
    {
     "data": {
      "text/html": [
       "<script>\n",
       "    code_show=false;\n",
       "    function code_toggle() {\n",
       "     if (code_show){\n",
       "     $('div.input').hide();\n",
       "     } else {\n",
       "     $('div.input').show();\n",
       "     }\n",
       "     code_show = !code_show\n",
       "    }\n",
       "    $( document ).ready(code_toggle);\n",
       "    </script>\n",
       "    <form action=\"javascript:code_toggle()\"><input type=\"submit\" value=\"Click here to toggle on/off the raw code.\"></form>"
      ],
      "text/plain": [
       "<IPython.core.display.HTML object>"
      ]
     },
     "metadata": {},
     "output_type": "display_data"
    },
    {
     "data": {
      "text/html": [
       "<script type='text/javascript'>function generate_toc_content(){var all_headers=$(\"#notebook\").find(\":header\");var toc=\"\";var level=0;var min_level=3;all_headers.each(function(i,h){var openLevel=parseInt(h.tagName.slice(1),10);if(openLevel>min_level){return;}\n",
       "var titleText=$(h).clone().children().remove().end().text();if(openLevel>level){toc+=(new Array(openLevel-level+1)).join(\"<ol class='toc-item unstyle'>\");}else if(openLevel<level){toc+=(new Array(level-openLevel+1)).join('</li></ol>');}else{toc+=(new Array(level+1)).join('</li>');}\n",
       "level=parseInt(openLevel);var anchor=$(h).attr('id');toc+='<li><a href=\"#'+anchor+'\">'+titleText\n",
       "+'</a>';});if(level){toc+=(new Array(level+1)).join('</ol>');}\n",
       "return toc}\n",
       "function show_list_number(){$(\"#toc ol\").toggleClass('unstyle');$(\"#toc ol\").toggleClass('nested');$(\"#toc li\").toggleClass('nested');};var create_toc_div=function(){var toc_wrapper=$('<div id=\"toc-wrapper\"/>').append($(\"<div/>\",{class:'header',text:'Contents '}).append($(\"<a/>\",{id:'toc-reload-btn',href:'#',title:'Reload ToC',text:\"  \\u21BB\"}).click(function(){create_toc();return false;})).append($(\"<a/>\",{id:'display-heading-number-btn',href:'#',title:'Number text sections',text:'#'}).click(function(){show_list_number();}))).append($(\"<div/>\",{id:\"toc\"}));$('<div/>',{class:'col-md-2',id:'toc-column'}).append(toc_wrapper).insertBefore('#notebook-container');};var toggle_toc=function(){$(\"#toc-column\").toggle({duration:0,complete:function(){$('#notebook-container').toggleClass(\"col-md-9\").toggleClass(\"col-md-10 col-md-offset-1\");}});};var init_toc_container=function(){if($(\"#toc_button\").length===0){if(typeof IPython!=\"undefined\"){IPython.toolbar.add_buttons_group([{'label':'Table of Contents','icon':'fa-list','callback':toggle_toc,'id':'toc_button'}]);}}\n",
       "create_toc_div();$('#notebook').addClass('row');$('#notebook-container').addClass('col-md-9').removeClass('container');};var create_toc=function(){var ToC=generate_toc_content();$(\"#toc\").empty().append(ToC);};$(document).ready(function(){if(!$('#notebook').hasClass('row')){init_toc_container()}\n",
       "if(typeof IPython!=\"undefined\"){$([IPython.events]).on(\"rendered.MarkdownCell\",function(){create_toc();});}\n",
       "create_toc();});</script><style media='screen' type='text/css'>#toc {    height: 100%;}#toc > .toc-item {    padding: 0;    margin:  0;}#toc .toc-item .toc-item{  padding-left: 10px;}.toc-item.unstyle {    list-style-type: none;}ol.nested{    counter-reset: item}li.nested{    display: block}li.nested:before{    content: counters(item, \".\") \". \";    counter-increment: item}#ipython-main-app #toc-wrapper{    height: 85%;}#toc-wrapper {    height: 95%;    padding: 10px;    position: fixed;    max-width: 200px;    background-color: #fff;    opacity: .8;    overflow: scroll;}#toc-wrapper.closed {  min-width: 100px;  width: auto;  height:auto;  /*transition: width;*/}#toc-wrapper:hover{  opacity: 1;}#toc-wrapper .header {  font-size: 18px;  font-weight: bold;}#toc-wrapper .hide-btn {  font-size: 14px;  font-family: monospace;}#toc-reload-btn, #display-heading-number-btn {    font-size: 14px;    font-family: monospace;    margin-right: 10px;}.nav .active a {  color: black; }</style>"
      ],
      "text/plain": [
       "<IPython.core.display.HTML object>"
      ]
     },
     "metadata": {},
     "output_type": "display_data"
    }
   ],
   "source": [
    "%matplotlib inline\n",
    "%load_ext autoreload\n",
    "%autoreload 2\n",
    "\n",
    "from __future__ import division\n",
    "from import_file import *\n",
    "load_libs()\n",
    "\n",
    "import json\n",
    "from pprint import pprint"
   ]
  },
  {
   "cell_type": "code",
   "execution_count": 3,
   "metadata": {
    "collapsed": false
   },
   "outputs": [
    {
     "data": {
      "application/pdf": "[encoded data removed]",
      "image/png": "[encoded data removed]",
      "text/plain": [
       "<matplotlib.figure.Figure at 0x3b64c88>"
      ]
     },
     "metadata": {},
     "output_type": "display_data"
    }
   ],
   "source": [
    "# fig, ax = plt.subplots()\n",
    "plt.plot([3,1,4,1,5], 'ks-', mec='w', mew=5, ms=20)\n",
    "fig=plt.gcf()"
   ]
  },
  {
   "cell_type": "code",
   "execution_count": 8,
   "metadata": {
    "collapsed": true
   },
   "outputs": [],
   "source": [
    "file_name = 'test.html'\n",
    "mpld3.save_html(fig, './docs/'+file_name)"
   ]
  },
  {
   "cell_type": "code",
   "execution_count": 1,
   "metadata": {
    "collapsed": true
   },
   "outputs": [],
   "source": [
    "movie_list = [\n",
    "    {'name': 'Movie 1',\n",
    "    'genre' :'Action, Fantasy, Horror'},\n",
    "    {'name': 'Movie 2',\n",
    "    'genre' :'Action, Comedy, Family'},\n",
    "    {'name': 'Movie 3',\n",
    "    'genre' :'Biography, Drama'},\n",
    "    {'name': 'Movie 4',\n",
    "    'genre' :'Biography, Drama, Romance'},\n",
    "    {'name': 'Movie 5',\n",
    "    'genre' :'Drama'},\n",
    "    {'name': 'Movie 6',\n",
    "    'genre' :'Documentary'},\n",
    "]"
   ]
  },
  {
   "cell_type": "code",
   "execution_count": 35,
   "metadata": {
    "collapsed": false
   },
   "outputs": [
    {
     "name": "stdout",
     "output_type": "stream",
     "text": [
      "a b {\n",
      "  color: blue; }\n",
      "\n"
     ]
    }
   ],
   "source": [
    "import sass\n",
    "print sass.compile(string='a { b { color: blue; } }')"
   ]
  },
  {
   "cell_type": "code",
   "execution_count": 6,
   "metadata": {
    "collapsed": false
   },
   "outputs": [
    {
     "data": {
      "text/html": [
       "<div>\n",
       "<table border=\"1\" class=\"dataframe\">\n",
       "  <thead>\n",
       "    <tr style=\"text-align: right;\">\n",
       "      <th></th>\n",
       "      <th>x</th>\n",
       "      <th>y</th>\n",
       "    </tr>\n",
       "  </thead>\n",
       "  <tbody>\n",
       "    <tr>\n",
       "      <th>count</th>\n",
       "      <td>500.000000</td>\n",
       "      <td>500.000000</td>\n",
       "    </tr>\n",
       "    <tr>\n",
       "      <th>mean</th>\n",
       "      <td>0.500000</td>\n",
       "      <td>0.021224</td>\n",
       "    </tr>\n",
       "    <tr>\n",
       "      <th>std</th>\n",
       "      <td>0.289543</td>\n",
       "      <td>1.015742</td>\n",
       "    </tr>\n",
       "    <tr>\n",
       "      <th>min</th>\n",
       "      <td>0.000000</td>\n",
       "      <td>-3.075830</td>\n",
       "    </tr>\n",
       "    <tr>\n",
       "      <th>25%</th>\n",
       "      <td>0.250000</td>\n",
       "      <td>-0.662718</td>\n",
       "    </tr>\n",
       "    <tr>\n",
       "      <th>50%</th>\n",
       "      <td>0.500000</td>\n",
       "      <td>0.001420</td>\n",
       "    </tr>\n",
       "    <tr>\n",
       "      <th>75%</th>\n",
       "      <td>0.750000</td>\n",
       "      <td>0.706986</td>\n",
       "    </tr>\n",
       "    <tr>\n",
       "      <th>max</th>\n",
       "      <td>1.000000</td>\n",
       "      <td>3.339252</td>\n",
       "    </tr>\n",
       "  </tbody>\n",
       "</table>\n",
       "</div>"
      ],
      "text/plain": [
       "                x           y\n",
       "count  500.000000  500.000000\n",
       "mean     0.500000    0.021224\n",
       "std      0.289543    1.015742\n",
       "min      0.000000   -3.075830\n",
       "25%      0.250000   -0.662718\n",
       "50%      0.500000    0.001420\n",
       "75%      0.750000    0.706986\n",
       "max      1.000000    3.339252"
      ]
     },
     "execution_count": 6,
     "metadata": {},
     "output_type": "execute_result"
    }
   ],
   "source": [
    "N = 500\n",
    "x = np.linspace(0, 1, N)\n",
    "y = np.random.randn(N)\n",
    "df = pd.DataFrame({'x': x, 'y': y})\n",
    "df.describe()"
   ]
  },
  {
   "cell_type": "code",
   "execution_count": 33,
   "metadata": {
    "collapsed": false
   },
   "outputs": [],
   "source": [
    "data = df.to_dict(orient='records')"
   ]
  },
  {
   "cell_type": "code",
   "execution_count": 18,
   "metadata": {
    "collapsed": false
   },
   "outputs": [
    {
     "data": {
      "application/pdf": "[encoded data removed]",
      "image/png": "[encoded data removed]",
      "text/plain": [
       "<matplotlib.figure.Figure at 0xf6aeba8>"
      ]
     },
     "metadata": {},
     "output_type": "display_data"
    }
   ],
   "source": [
    "x, bins,_ = plt.hist(df.x, normed=True)"
   ]
  },
  {
   "cell_type": "code",
   "execution_count": 20,
   "metadata": {
    "collapsed": false
   },
   "outputs": [
    {
     "name": "stdout",
     "output_type": "stream",
     "text": [
      "[ 1.  1.  1.  1.  1.  1.  1.  1.  1.  1.]\n",
      "[ 0.   0.1  0.2  0.3  0.4  0.5  0.6  0.7  0.8  0.9  1. ]\n",
      "[ 0.1  0.1  0.1  0.1  0.1  0.1  0.1  0.1  0.1  0.1]\n"
     ]
    },
    {
     "data": {
      "text/plain": [
       "1.0"
      ]
     },
     "execution_count": 20,
     "metadata": {},
     "output_type": "execute_result"
    }
   ],
   "source": [
    "print x \n",
    "print bins\n",
    "print np.diff(bins)\n",
    "np.sum(x * np.diff(bins))"
   ]
  },
  {
   "cell_type": "code",
   "execution_count": 3,
   "metadata": {
    "collapsed": false
   },
   "outputs": [
    {
     "data": {
      "text/html": [
       "<A HREF= \"#\" onClick=\"window.open('./test.html', 'Sample');return false\">\n",
       "See the sample</A>.\n"
      ],
      "text/plain": [
       "<IPython.core.display.HTML object>"
      ]
     },
     "execution_count": 3,
     "metadata": {},
     "output_type": "execute_result"
    }
   ],
   "source": [
    "button = '''<A HREF= \"#\" onClick=\"window.open('./test.html', 'Sample');return false\">\n",
    "See the sample</A>.\n",
    "'''\n",
    "HTML(button)"
   ]
  },
  {
   "cell_type": "code",
   "execution_count": 4,
   "metadata": {
    "collapsed": true
   },
   "outputs": [],
   "source": [
    "import mpld3\n",
    "# mpld3.enable_notebook()\n",
    "from mpld3 import plugins\n",
    "from jinja2 import Template"
   ]
  },
  {
   "cell_type": "code",
   "execution_count": 5,
   "metadata": {
    "collapsed": false
   },
   "outputs": [
    {
     "data": {
      "text/html": [
       "\n",
       "\n",
       "<style>\n",
       "\n",
       "</style>\n",
       "\n",
       "<div id=\"fig_el84322069317849840136745\"></div>\n",
       "<script>\n",
       "function mpld3_load_lib(url, callback){\n",
       "  var s = document.createElement('script');\n",
       "  s.src = url;\n",
       "  s.async = true;\n",
       "  s.onreadystatechange = s.onload = callback;\n",
       "  s.onerror = function(){console.warn(\"failed to load library \" + url);};\n",
       "  document.getElementsByTagName(\"head\")[0].appendChild(s);\n",
       "}\n",
       "\n",
       "if(typeof(mpld3) !== \"undefined\" && mpld3._mpld3IsLoaded){\n",
       "   // already loaded: just create the figure\n",
       "   !function(mpld3){\n",
       "       \n",
       "       mpld3.draw_figure(\"fig_el84322069317849840136745\", {\"axes\": [{\"xlim\": [-0.20000000000000001, 1.2000000000000002], \"yscale\": \"linear\", \"axesbg\": \"#FFFFFF\", \"texts\": [], \"zoomable\": true, \"images\": [], \"xdomain\": [-0.20000000000000001, 1.2000000000000002], \"ylim\": [-0.20000000000000001, 1.2000000000000002], \"paths\": [], \"sharey\": [], \"sharex\": [], \"axesbgalpha\": null, \"axes\": [{\"scale\": \"linear\", \"tickformat\": null, \"grid\": {\"color\": \"#CCCCCC\", \"alpha\": 1.0, \"dasharray\": \"10,0\", \"gridOn\": true}, \"fontsize\": 10.0, \"position\": \"bottom\", \"nticks\": 9, \"tickvalues\": null}, {\"scale\": \"linear\", \"tickformat\": null, \"grid\": {\"color\": \"#CCCCCC\", \"alpha\": 1.0, \"dasharray\": \"10,0\", \"gridOn\": true}, \"fontsize\": 10.0, \"position\": \"left\", \"nticks\": 9, \"tickvalues\": null}], \"lines\": [], \"markers\": [], \"id\": \"el8432206933240\", \"ydomain\": [-0.20000000000000001, 1.2000000000000002], \"collections\": [{\"paths\": [[[[0.0, -0.5], [0.13260155, -0.5], [0.25978993539242673, -0.44731684579412084], [0.3535533905932738, -0.3535533905932738], [0.44731684579412084, -0.25978993539242673], [0.5, -0.13260155], [0.5, 0.0], [0.5, 0.13260155], [0.44731684579412084, 0.25978993539242673], [0.3535533905932738, 0.3535533905932738], [0.25978993539242673, 0.44731684579412084], [0.13260155, 0.5], [0.0, 0.5], [-0.13260155, 0.5], [-0.25978993539242673, 0.44731684579412084], [-0.3535533905932738, 0.3535533905932738], [-0.44731684579412084, 0.25978993539242673], [-0.5, 0.13260155], [-0.5, 0.0], [-0.5, -0.13260155], [-0.44731684579412084, -0.25978993539242673], [-0.3535533905932738, -0.3535533905932738], [-0.25978993539242673, -0.44731684579412084], [-0.13260155, -0.5], [0.0, -0.5]], [\"M\", \"C\", \"C\", \"C\", \"C\", \"C\", \"C\", \"C\", \"C\", \"Z\"]]], \"edgecolors\": [\"#000000\"], \"edgewidths\": [0.3], \"offsets\": \"data01\", \"yindex\": 1, \"id\": \"el8432206931728\", \"pathtransforms\": [[17.320508075688775, 0.0, 0.0, 17.320508075688775, 0.0, 0.0]], \"pathcoordinates\": \"display\", \"offsetcoordinates\": \"data\", \"zorder\": 1, \"xindex\": 0, \"alphas\": [0.3], \"facecolors\": [\"#0000FF\"]}], \"xscale\": \"linear\", \"bbox\": [0.125, 0.125, 0.77500000000000002, 0.77500000000000002]}], \"height\": 216.0, \"width\": 216.0, \"plugins\": [{\"type\": \"reset\"}, {\"enabled\": false, \"button\": true, \"type\": \"zoom\"}, {\"enabled\": false, \"button\": true, \"type\": \"boxzoom\"}, {\"voffset\": 10, \"labels\": [\"0.29, 0.07\", \"0.98, 0.68\", \"0.7, 0.55\", \"0.45, 0.14\", \"0.35, 0.85\", \"0.86, 0.62\", \"0.84, 0.91\", \"0.02, 0.21\", \"0.72, 0.6\", \"0.2, 0.13\", \"0.85, 0.05\", \"0.08, 0.91\", \"0.72, 0.58\", \"0.49, 0.85\", \"0.76, 0.02\", \"0.27, 0.07\", \"0.37, 0.3\", \"0.48, 0.71\", \"0.09, 0.25\", \"0.85, 0.36\", \"0.54, 0.12\", \"0.03, 0.74\", \"0.41, 0.29\", \"0.34, 0.02\", \"0.98, 0.52\", \"0.74, 0.13\", \"0.99, 0.07\", \"0.39, 0.37\", \"0.32, 0.96\", \"0.93, 0.36\", \"0.58, 0.45\", \"0.33, 0.08\", \"0.47, 0.82\", \"0.82, 0.32\", \"0.2, 0.9\", \"0.0, 0.3\", \"0.78, 0.62\", \"0.31, 0.14\", \"0.15, 0.38\", \"0.3, 0.15\"], \"hoffset\": 0, \"location\": \"mouse\", \"type\": \"tooltip\", \"id\": \"el8432206931728\"}], \"data\": {\"data01\": [[0.2866114718980043, 0.0715076858941166], [0.9760744789383132, 0.6821835967130802], [0.6972950562097967, 0.5533608233482789], [0.447786719499364, 0.1402336114837487], [0.3492431164928935, 0.8455384621838481], [0.863019580602747, 0.6189609638049073], [0.8449618999393503, 0.9132008601859165], [0.016237749178688143, 0.2130903827060454], [0.7180619567045128, 0.5987308912530669], [0.20253244366318335, 0.12624980591922752], [0.8493571856397886, 0.053344710729489875], [0.07663266593045459, 0.9090224121023004], [0.7248437846042145, 0.577865349257411], [0.49451067022430917, 0.8536671265761896], [0.7579945891814813, 0.023124887147129902], [0.2700014633419643, 0.071693080982842], [0.36636362539360745, 0.30440121257474384], [0.4750419750383713, 0.7078279368916142], [0.0933429444279823, 0.2530784287794694], [0.8527534269951408, 0.3578565409037048], [0.5403071632317835, 0.11788207596205669], [0.026157915285127453, 0.7359139964190361], [0.4136423331381003, 0.28714557383177286], [0.34340622569131707, 0.017594839715187938], [0.9820065421908784, 0.5171642040236615], [0.7428394206296546, 0.12730326245955015], [0.9890708736620518, 0.0671080527001563], [0.3865103012336829, 0.3725514301817767], [0.31669761198542135, 0.9604391261011749], [0.9271849705648544, 0.3594810207201682], [0.5750544456978168, 0.4524046080905334], [0.33237248923317275, 0.0841841171556943], [0.46598851587859136, 0.8156033636612202], [0.8181825791009395, 0.3176986646426089], [0.20445701397909866, 0.8997130418192034], [0.002924058841806132, 0.29916687637259276], [0.7763776395582191, 0.6192343595895542], [0.3070355244516879, 0.14163528584249785], [0.15098126161098768, 0.37731680201186546], [0.30011742224492377, 0.1534120631035505]]}, \"id\": \"el8432206931784\"});\n",
       "   }(mpld3);\n",
       "}else if(typeof define === \"function\" && define.amd){\n",
       "   // require.js is available: use it to load d3/mpld3\n",
       "   require.config({paths: {d3: \"https://mpld3.github.io/js/d3.v3.min\"}});\n",
       "   require([\"d3\"], function(d3){\n",
       "      window.d3 = d3;\n",
       "      mpld3_load_lib(\"https://mpld3.github.io/js/mpld3.v0.2.js\", function(){\n",
       "         \n",
       "         mpld3.draw_figure(\"fig_el84322069317849840136745\", {\"axes\": [{\"xlim\": [-0.20000000000000001, 1.2000000000000002], \"yscale\": \"linear\", \"axesbg\": \"#FFFFFF\", \"texts\": [], \"zoomable\": true, \"images\": [], \"xdomain\": [-0.20000000000000001, 1.2000000000000002], \"ylim\": [-0.20000000000000001, 1.2000000000000002], \"paths\": [], \"sharey\": [], \"sharex\": [], \"axesbgalpha\": null, \"axes\": [{\"scale\": \"linear\", \"tickformat\": null, \"grid\": {\"color\": \"#CCCCCC\", \"alpha\": 1.0, \"dasharray\": \"10,0\", \"gridOn\": true}, \"fontsize\": 10.0, \"position\": \"bottom\", \"nticks\": 9, \"tickvalues\": null}, {\"scale\": \"linear\", \"tickformat\": null, \"grid\": {\"color\": \"#CCCCCC\", \"alpha\": 1.0, \"dasharray\": \"10,0\", \"gridOn\": true}, \"fontsize\": 10.0, \"position\": \"left\", \"nticks\": 9, \"tickvalues\": null}], \"lines\": [], \"markers\": [], \"id\": \"el8432206933240\", \"ydomain\": [-0.20000000000000001, 1.2000000000000002], \"collections\": [{\"paths\": [[[[0.0, -0.5], [0.13260155, -0.5], [0.25978993539242673, -0.44731684579412084], [0.3535533905932738, -0.3535533905932738], [0.44731684579412084, -0.25978993539242673], [0.5, -0.13260155], [0.5, 0.0], [0.5, 0.13260155], [0.44731684579412084, 0.25978993539242673], [0.3535533905932738, 0.3535533905932738], [0.25978993539242673, 0.44731684579412084], [0.13260155, 0.5], [0.0, 0.5], [-0.13260155, 0.5], [-0.25978993539242673, 0.44731684579412084], [-0.3535533905932738, 0.3535533905932738], [-0.44731684579412084, 0.25978993539242673], [-0.5, 0.13260155], [-0.5, 0.0], [-0.5, -0.13260155], [-0.44731684579412084, -0.25978993539242673], [-0.3535533905932738, -0.3535533905932738], [-0.25978993539242673, -0.44731684579412084], [-0.13260155, -0.5], [0.0, -0.5]], [\"M\", \"C\", \"C\", \"C\", \"C\", \"C\", \"C\", \"C\", \"C\", \"Z\"]]], \"edgecolors\": [\"#000000\"], \"edgewidths\": [0.3], \"offsets\": \"data01\", \"yindex\": 1, \"id\": \"el8432206931728\", \"pathtransforms\": [[17.320508075688775, 0.0, 0.0, 17.320508075688775, 0.0, 0.0]], \"pathcoordinates\": \"display\", \"offsetcoordinates\": \"data\", \"zorder\": 1, \"xindex\": 0, \"alphas\": [0.3], \"facecolors\": [\"#0000FF\"]}], \"xscale\": \"linear\", \"bbox\": [0.125, 0.125, 0.77500000000000002, 0.77500000000000002]}], \"height\": 216.0, \"width\": 216.0, \"plugins\": [{\"type\": \"reset\"}, {\"enabled\": false, \"button\": true, \"type\": \"zoom\"}, {\"enabled\": false, \"button\": true, \"type\": \"boxzoom\"}, {\"voffset\": 10, \"labels\": [\"0.29, 0.07\", \"0.98, 0.68\", \"0.7, 0.55\", \"0.45, 0.14\", \"0.35, 0.85\", \"0.86, 0.62\", \"0.84, 0.91\", \"0.02, 0.21\", \"0.72, 0.6\", \"0.2, 0.13\", \"0.85, 0.05\", \"0.08, 0.91\", \"0.72, 0.58\", \"0.49, 0.85\", \"0.76, 0.02\", \"0.27, 0.07\", \"0.37, 0.3\", \"0.48, 0.71\", \"0.09, 0.25\", \"0.85, 0.36\", \"0.54, 0.12\", \"0.03, 0.74\", \"0.41, 0.29\", \"0.34, 0.02\", \"0.98, 0.52\", \"0.74, 0.13\", \"0.99, 0.07\", \"0.39, 0.37\", \"0.32, 0.96\", \"0.93, 0.36\", \"0.58, 0.45\", \"0.33, 0.08\", \"0.47, 0.82\", \"0.82, 0.32\", \"0.2, 0.9\", \"0.0, 0.3\", \"0.78, 0.62\", \"0.31, 0.14\", \"0.15, 0.38\", \"0.3, 0.15\"], \"hoffset\": 0, \"location\": \"mouse\", \"type\": \"tooltip\", \"id\": \"el8432206931728\"}], \"data\": {\"data01\": [[0.2866114718980043, 0.0715076858941166], [0.9760744789383132, 0.6821835967130802], [0.6972950562097967, 0.5533608233482789], [0.447786719499364, 0.1402336114837487], [0.3492431164928935, 0.8455384621838481], [0.863019580602747, 0.6189609638049073], [0.8449618999393503, 0.9132008601859165], [0.016237749178688143, 0.2130903827060454], [0.7180619567045128, 0.5987308912530669], [0.20253244366318335, 0.12624980591922752], [0.8493571856397886, 0.053344710729489875], [0.07663266593045459, 0.9090224121023004], [0.7248437846042145, 0.577865349257411], [0.49451067022430917, 0.8536671265761896], [0.7579945891814813, 0.023124887147129902], [0.2700014633419643, 0.071693080982842], [0.36636362539360745, 0.30440121257474384], [0.4750419750383713, 0.7078279368916142], [0.0933429444279823, 0.2530784287794694], [0.8527534269951408, 0.3578565409037048], [0.5403071632317835, 0.11788207596205669], [0.026157915285127453, 0.7359139964190361], [0.4136423331381003, 0.28714557383177286], [0.34340622569131707, 0.017594839715187938], [0.9820065421908784, 0.5171642040236615], [0.7428394206296546, 0.12730326245955015], [0.9890708736620518, 0.0671080527001563], [0.3865103012336829, 0.3725514301817767], [0.31669761198542135, 0.9604391261011749], [0.9271849705648544, 0.3594810207201682], [0.5750544456978168, 0.4524046080905334], [0.33237248923317275, 0.0841841171556943], [0.46598851587859136, 0.8156033636612202], [0.8181825791009395, 0.3176986646426089], [0.20445701397909866, 0.8997130418192034], [0.002924058841806132, 0.29916687637259276], [0.7763776395582191, 0.6192343595895542], [0.3070355244516879, 0.14163528584249785], [0.15098126161098768, 0.37731680201186546], [0.30011742224492377, 0.1534120631035505]]}, \"id\": \"el8432206931784\"});\n",
       "      });\n",
       "    });\n",
       "}else{\n",
       "    // require.js not available: dynamically load d3 & mpld3\n",
       "    mpld3_load_lib(\"https://mpld3.github.io/js/d3.v3.min.js\", function(){\n",
       "         mpld3_load_lib(\"https://mpld3.github.io/js/mpld3.v0.2.js\", function(){\n",
       "                 \n",
       "                 mpld3.draw_figure(\"fig_el84322069317849840136745\", {\"axes\": [{\"xlim\": [-0.20000000000000001, 1.2000000000000002], \"yscale\": \"linear\", \"axesbg\": \"#FFFFFF\", \"texts\": [], \"zoomable\": true, \"images\": [], \"xdomain\": [-0.20000000000000001, 1.2000000000000002], \"ylim\": [-0.20000000000000001, 1.2000000000000002], \"paths\": [], \"sharey\": [], \"sharex\": [], \"axesbgalpha\": null, \"axes\": [{\"scale\": \"linear\", \"tickformat\": null, \"grid\": {\"color\": \"#CCCCCC\", \"alpha\": 1.0, \"dasharray\": \"10,0\", \"gridOn\": true}, \"fontsize\": 10.0, \"position\": \"bottom\", \"nticks\": 9, \"tickvalues\": null}, {\"scale\": \"linear\", \"tickformat\": null, \"grid\": {\"color\": \"#CCCCCC\", \"alpha\": 1.0, \"dasharray\": \"10,0\", \"gridOn\": true}, \"fontsize\": 10.0, \"position\": \"left\", \"nticks\": 9, \"tickvalues\": null}], \"lines\": [], \"markers\": [], \"id\": \"el8432206933240\", \"ydomain\": [-0.20000000000000001, 1.2000000000000002], \"collections\": [{\"paths\": [[[[0.0, -0.5], [0.13260155, -0.5], [0.25978993539242673, -0.44731684579412084], [0.3535533905932738, -0.3535533905932738], [0.44731684579412084, -0.25978993539242673], [0.5, -0.13260155], [0.5, 0.0], [0.5, 0.13260155], [0.44731684579412084, 0.25978993539242673], [0.3535533905932738, 0.3535533905932738], [0.25978993539242673, 0.44731684579412084], [0.13260155, 0.5], [0.0, 0.5], [-0.13260155, 0.5], [-0.25978993539242673, 0.44731684579412084], [-0.3535533905932738, 0.3535533905932738], [-0.44731684579412084, 0.25978993539242673], [-0.5, 0.13260155], [-0.5, 0.0], [-0.5, -0.13260155], [-0.44731684579412084, -0.25978993539242673], [-0.3535533905932738, -0.3535533905932738], [-0.25978993539242673, -0.44731684579412084], [-0.13260155, -0.5], [0.0, -0.5]], [\"M\", \"C\", \"C\", \"C\", \"C\", \"C\", \"C\", \"C\", \"C\", \"Z\"]]], \"edgecolors\": [\"#000000\"], \"edgewidths\": [0.3], \"offsets\": \"data01\", \"yindex\": 1, \"id\": \"el8432206931728\", \"pathtransforms\": [[17.320508075688775, 0.0, 0.0, 17.320508075688775, 0.0, 0.0]], \"pathcoordinates\": \"display\", \"offsetcoordinates\": \"data\", \"zorder\": 1, \"xindex\": 0, \"alphas\": [0.3], \"facecolors\": [\"#0000FF\"]}], \"xscale\": \"linear\", \"bbox\": [0.125, 0.125, 0.77500000000000002, 0.77500000000000002]}], \"height\": 216.0, \"width\": 216.0, \"plugins\": [{\"type\": \"reset\"}, {\"enabled\": false, \"button\": true, \"type\": \"zoom\"}, {\"enabled\": false, \"button\": true, \"type\": \"boxzoom\"}, {\"voffset\": 10, \"labels\": [\"0.29, 0.07\", \"0.98, 0.68\", \"0.7, 0.55\", \"0.45, 0.14\", \"0.35, 0.85\", \"0.86, 0.62\", \"0.84, 0.91\", \"0.02, 0.21\", \"0.72, 0.6\", \"0.2, 0.13\", \"0.85, 0.05\", \"0.08, 0.91\", \"0.72, 0.58\", \"0.49, 0.85\", \"0.76, 0.02\", \"0.27, 0.07\", \"0.37, 0.3\", \"0.48, 0.71\", \"0.09, 0.25\", \"0.85, 0.36\", \"0.54, 0.12\", \"0.03, 0.74\", \"0.41, 0.29\", \"0.34, 0.02\", \"0.98, 0.52\", \"0.74, 0.13\", \"0.99, 0.07\", \"0.39, 0.37\", \"0.32, 0.96\", \"0.93, 0.36\", \"0.58, 0.45\", \"0.33, 0.08\", \"0.47, 0.82\", \"0.82, 0.32\", \"0.2, 0.9\", \"0.0, 0.3\", \"0.78, 0.62\", \"0.31, 0.14\", \"0.15, 0.38\", \"0.3, 0.15\"], \"hoffset\": 0, \"location\": \"mouse\", \"type\": \"tooltip\", \"id\": \"el8432206931728\"}], \"data\": {\"data01\": [[0.2866114718980043, 0.0715076858941166], [0.9760744789383132, 0.6821835967130802], [0.6972950562097967, 0.5533608233482789], [0.447786719499364, 0.1402336114837487], [0.3492431164928935, 0.8455384621838481], [0.863019580602747, 0.6189609638049073], [0.8449618999393503, 0.9132008601859165], [0.016237749178688143, 0.2130903827060454], [0.7180619567045128, 0.5987308912530669], [0.20253244366318335, 0.12624980591922752], [0.8493571856397886, 0.053344710729489875], [0.07663266593045459, 0.9090224121023004], [0.7248437846042145, 0.577865349257411], [0.49451067022430917, 0.8536671265761896], [0.7579945891814813, 0.023124887147129902], [0.2700014633419643, 0.071693080982842], [0.36636362539360745, 0.30440121257474384], [0.4750419750383713, 0.7078279368916142], [0.0933429444279823, 0.2530784287794694], [0.8527534269951408, 0.3578565409037048], [0.5403071632317835, 0.11788207596205669], [0.026157915285127453, 0.7359139964190361], [0.4136423331381003, 0.28714557383177286], [0.34340622569131707, 0.017594839715187938], [0.9820065421908784, 0.5171642040236615], [0.7428394206296546, 0.12730326245955015], [0.9890708736620518, 0.0671080527001563], [0.3865103012336829, 0.3725514301817767], [0.31669761198542135, 0.9604391261011749], [0.9271849705648544, 0.3594810207201682], [0.5750544456978168, 0.4524046080905334], [0.33237248923317275, 0.0841841171556943], [0.46598851587859136, 0.8156033636612202], [0.8181825791009395, 0.3176986646426089], [0.20445701397909866, 0.8997130418192034], [0.002924058841806132, 0.29916687637259276], [0.7763776395582191, 0.6192343595895542], [0.3070355244516879, 0.14163528584249785], [0.15098126161098768, 0.37731680201186546], [0.30011742224492377, 0.1534120631035505]]}, \"id\": \"el8432206931784\"});\n",
       "            })\n",
       "         });\n",
       "}\n",
       "</script>"
      ],
      "text/plain": [
       "<IPython.core.display.HTML object>"
      ]
     },
     "execution_count": 5,
     "metadata": {},
     "output_type": "execute_result"
    }
   ],
   "source": [
    "fig, ax = plt.subplots()\n",
    "x, y = np.random.rand(40), np.random.rand(40)\n",
    "scatter_plot = ax.scatter(x, y, s=300, alpha=0.3)\n",
    "\n",
    "labels = [\"{0}, {1}\".format(round(point[0],2), round(point[1],2)) for point in zip(x, y)]\n",
    "tooltip = plugins.PointLabelTooltip(scatter_plot, labels)\n",
    "\n",
    "\n",
    "plugins.connect(fig, tooltip)\n",
    "mpld3.display(fig)"
   ]
  },
  {
   "cell_type": "code",
   "execution_count": 6,
   "metadata": {
    "collapsed": true
   },
   "outputs": [],
   "source": [
    "from IPython.display import display, HTML, Javascript\n",
    "from jinja2 import Template\n",
    "movie_list = [\n",
    "    {'name': 'Movie 1',\n",
    "    'image_url' :'https://img1.doubanio.com/view/movie_poster_cover/mpst/public/p2369022569.jpg'},\n",
    "    {'name': 'Movie 2',\n",
    "    'image_url' :'https://img1.doubanio.com/view/movie_poster_cover/mpst/public/p2373184418.jpg'},\n",
    "    {'name': 'Movie 3',\n",
    "    'image_url' :'https://img3.doubanio.com/view/movie_poster_cover/mpst/public/p2372098911.jpg'},\n",
    "    {'name': 'Movie 3',\n",
    "    'image_url' :'https://img3.doubanio.com/view/movie_poster_cover/mpst/public/p2372098911.jpg'},\n",
    "    {'name': 'Movie 3',\n",
    "    'image_url' :'https://img3.doubanio.com/view/movie_poster_cover/mpst/public/p2372098911.jpg'},\n",
    "    {'name': 'Movie 3',\n",
    "    'image_url' :'https://img3.doubanio.com/view/movie_poster_cover/mpst/public/p2372098911.jpg'},\n",
    "    {'name': 'Movie 3',\n",
    "    'image_url' :'https://img3.doubanio.com/view/movie_poster_cover/mpst/public/p2372098911.jpg'},\n",
    "]"
   ]
  },
  {
   "cell_type": "code",
   "execution_count": 7,
   "metadata": {
    "collapsed": false
   },
   "outputs": [],
   "source": [
    "template = Template('''\n",
    "        <div class='thumbnail'>\n",
    "            <div class='caption'>\n",
    "                <h3 class='movie-title'>{{movie['name']}}</h3>\n",
    "                <img src={{movie['image_url']}}>\n",
    "                <p><a class='btn btn-primary' >Button</a> <a href='#' class='btn btn-default'>Button</a></p>\n",
    "            </div>\n",
    "        </div>\n",
    "''')"
   ]
  },
  {
   "cell_type": "code",
   "execution_count": 8,
   "metadata": {
    "collapsed": false
   },
   "outputs": [
    {
     "data": {
      "text/html": [
       "\n",
       "\n",
       "<style>\n",
       "\n",
       "</style>\n",
       "\n",
       "<div id=\"fig_el84322069311127116066519\"></div>\n",
       "<script>\n",
       "function mpld3_load_lib(url, callback){\n",
       "  var s = document.createElement('script');\n",
       "  s.src = url;\n",
       "  s.async = true;\n",
       "  s.onreadystatechange = s.onload = callback;\n",
       "  s.onerror = function(){console.warn(\"failed to load library \" + url);};\n",
       "  document.getElementsByTagName(\"head\")[0].appendChild(s);\n",
       "}\n",
       "\n",
       "if(typeof(mpld3) !== \"undefined\" && mpld3._mpld3IsLoaded){\n",
       "   // already loaded: just create the figure\n",
       "   !function(mpld3){\n",
       "       \n",
       "    mpld3.register_plugin(\"htmltooltip\", HtmlTooltipPlugin);\n",
       "    HtmlTooltipPlugin.prototype = Object.create(mpld3.Plugin.prototype);\n",
       "    HtmlTooltipPlugin.prototype.constructor = HtmlTooltipPlugin;\n",
       "    HtmlTooltipPlugin.prototype.requiredProps = [\"id\"];\n",
       "    HtmlTooltipPlugin.prototype.defaultProps = {labels:null, hoffset:0, voffset:10};\n",
       "    function HtmlTooltipPlugin(fig, props){\n",
       "        mpld3.Plugin.call(this, fig, props);\n",
       "    };\n",
       "\n",
       "    HtmlTooltipPlugin.prototype.draw = function(){\n",
       "       var obj = mpld3.get_element(this.props.id);\n",
       "       var labels = this.props.labels;\n",
       "       var tooltip = d3.select(\"body\").append(\"div\")\n",
       "                    .attr(\"class\", \"mpld3-tooltip\")\n",
       "                    .style(\"position\", \"absolute\")\n",
       "                    .style(\"z-index\", \"10\")\n",
       "                    .style(\"visibility\", \"hidden\");\n",
       "\n",
       "       obj.elements()\n",
       "           .on(\"mouseover\", function(d, i){\n",
       "                              tooltip.html(labels[i])\n",
       "                                     .style(\"visibility\", \"visible\");})\n",
       "           .on(\"mousemove\", function(d, i){\n",
       "                    tooltip\n",
       "                      .style(\"top\", d3.event.pageY + this.props.voffset + \"px\")\n",
       "                      .style(\"left\",d3.event.pageX + this.props.hoffset + \"px\");\n",
       "                 }.bind(this))\n",
       "           .on(\"mouseout\",  function(d, i){\n",
       "                           tooltip.style(\"visibility\", \"hidden\");});\n",
       "    };\n",
       "    \n",
       "       mpld3.draw_figure(\"fig_el84322069311127116066519\", {\"axes\": [{\"xlim\": [0.0, 5.0], \"yscale\": \"linear\", \"axesbg\": \"#FFFFFF\", \"texts\": [], \"zoomable\": true, \"images\": [], \"xdomain\": [0.0, 5.0], \"ylim\": [0.0, 5.0], \"paths\": [], \"sharey\": [], \"sharex\": [], \"axesbgalpha\": null, \"axes\": [{\"scale\": \"linear\", \"tickformat\": null, \"grid\": {\"color\": \"#CCCCCC\", \"alpha\": 1.0, \"dasharray\": \"10,0\", \"gridOn\": true}, \"fontsize\": 10.0, \"position\": \"bottom\", \"nticks\": 6, \"tickvalues\": null}, {\"scale\": \"linear\", \"tickformat\": null, \"grid\": {\"color\": \"#CCCCCC\", \"alpha\": 1.0, \"dasharray\": \"10,0\", \"gridOn\": true}, \"fontsize\": 10.0, \"position\": \"left\", \"nticks\": 6, \"tickvalues\": null}], \"lines\": [], \"markers\": [{\"edgecolor\": \"#000000\", \"facecolor\": \"#4C72B0\", \"edgewidth\": 0.0, \"yindex\": 1, \"coordinates\": \"data\", \"zorder\": 2, \"markerpath\": [[[0.0, 5.0], [1.3260155, 5.0], [2.597899353924267, 4.473168457941209], [3.5355339059327378, 3.5355339059327378], [4.473168457941209, 2.597899353924267], [5.0, 1.3260155], [5.0, 0.0], [5.0, -1.3260155], [4.473168457941209, -2.597899353924267], [3.5355339059327378, -3.5355339059327378], [2.597899353924267, -4.473168457941209], [1.3260155, -5.0], [0.0, -5.0], [-1.3260155, -5.0], [-2.597899353924267, -4.473168457941209], [-3.5355339059327378, -3.5355339059327378], [-4.473168457941209, -2.597899353924267], [-5.0, -1.3260155], [-5.0, 0.0], [-5.0, 1.3260155], [-4.473168457941209, 2.597899353924267], [-3.5355339059327378, 3.5355339059327378], [-2.597899353924267, 4.473168457941209], [-1.3260155, 5.0], [0.0, 5.0]], [\"M\", \"C\", \"C\", \"C\", \"C\", \"C\", \"C\", \"C\", \"C\", \"Z\"]], \"alpha\": 1, \"xindex\": 0, \"data\": \"data01\", \"id\": \"el8432206826184pts\"}], \"id\": \"el8432213141880\", \"ydomain\": [0.0, 5.0], \"collections\": [], \"xscale\": \"linear\", \"bbox\": [0.125, 0.125, 0.77500000000000002, 0.77500000000000002]}], \"height\": 216.0, \"width\": 216.0, \"plugins\": [{\"type\": \"reset\"}, {\"enabled\": false, \"button\": true, \"type\": \"zoom\"}, {\"enabled\": false, \"button\": true, \"type\": \"boxzoom\"}, {\"voffset\": 10, \"labels\": [\"\\n        <div class='thumbnail'>\\n            <div class='caption'>\\n                <h3 class='movie-title'>Movie 1</h3>\\n                <img src=https://img1.doubanio.com/view/movie_poster_cover/mpst/public/p2369022569.jpg>\\n                <p><a class='btn btn-primary' >Button</a> <a href='#' class='btn btn-default'>Button</a></p>\\n            </div>\\n        </div>\", \"\\n        <div class='thumbnail'>\\n            <div class='caption'>\\n                <h3 class='movie-title'>Movie 2</h3>\\n                <img src=https://img1.doubanio.com/view/movie_poster_cover/mpst/public/p2373184418.jpg>\\n                <p><a class='btn btn-primary' >Button</a> <a href='#' class='btn btn-default'>Button</a></p>\\n            </div>\\n        </div>\", \"\\n        <div class='thumbnail'>\\n            <div class='caption'>\\n                <h3 class='movie-title'>Movie 3</h3>\\n                <img src=https://img3.doubanio.com/view/movie_poster_cover/mpst/public/p2372098911.jpg>\\n                <p><a class='btn btn-primary' >Button</a> <a href='#' class='btn btn-default'>Button</a></p>\\n            </div>\\n        </div>\", \"\\n        <div class='thumbnail'>\\n            <div class='caption'>\\n                <h3 class='movie-title'>Movie 3</h3>\\n                <img src=https://img3.doubanio.com/view/movie_poster_cover/mpst/public/p2372098911.jpg>\\n                <p><a class='btn btn-primary' >Button</a> <a href='#' class='btn btn-default'>Button</a></p>\\n            </div>\\n        </div>\", \"\\n        <div class='thumbnail'>\\n            <div class='caption'>\\n                <h3 class='movie-title'>Movie 3</h3>\\n                <img src=https://img3.doubanio.com/view/movie_poster_cover/mpst/public/p2372098911.jpg>\\n                <p><a class='btn btn-primary' >Button</a> <a href='#' class='btn btn-default'>Button</a></p>\\n            </div>\\n        </div>\", \"\\n        <div class='thumbnail'>\\n            <div class='caption'>\\n                <h3 class='movie-title'>Movie 3</h3>\\n                <img src=https://img3.doubanio.com/view/movie_poster_cover/mpst/public/p2372098911.jpg>\\n                <p><a class='btn btn-primary' >Button</a> <a href='#' class='btn btn-default'>Button</a></p>\\n            </div>\\n        </div>\", \"\\n        <div class='thumbnail'>\\n            <div class='caption'>\\n                <h3 class='movie-title'>Movie 3</h3>\\n                <img src=https://img3.doubanio.com/view/movie_poster_cover/mpst/public/p2372098911.jpg>\\n                <p><a class='btn btn-primary' >Button</a> <a href='#' class='btn btn-default'>Button</a></p>\\n            </div>\\n        </div>\"], \"type\": \"htmltooltip\", \"id\": \"el8432206826184pts\", \"hoffset\": 0}], \"data\": {\"data01\": [[0.0, 0.0], [1.0, 1.0], [2.0, 2.0], [3.0, 3.0], [4.0, 4.0], [5.0, 5.0]]}, \"id\": \"el8432206931112\"});\n",
       "   }(mpld3);\n",
       "}else if(typeof define === \"function\" && define.amd){\n",
       "   // require.js is available: use it to load d3/mpld3\n",
       "   require.config({paths: {d3: \"https://mpld3.github.io/js/d3.v3.min\"}});\n",
       "   require([\"d3\"], function(d3){\n",
       "      window.d3 = d3;\n",
       "      mpld3_load_lib(\"https://mpld3.github.io/js/mpld3.v0.2.js\", function(){\n",
       "         \n",
       "    mpld3.register_plugin(\"htmltooltip\", HtmlTooltipPlugin);\n",
       "    HtmlTooltipPlugin.prototype = Object.create(mpld3.Plugin.prototype);\n",
       "    HtmlTooltipPlugin.prototype.constructor = HtmlTooltipPlugin;\n",
       "    HtmlTooltipPlugin.prototype.requiredProps = [\"id\"];\n",
       "    HtmlTooltipPlugin.prototype.defaultProps = {labels:null, hoffset:0, voffset:10};\n",
       "    function HtmlTooltipPlugin(fig, props){\n",
       "        mpld3.Plugin.call(this, fig, props);\n",
       "    };\n",
       "\n",
       "    HtmlTooltipPlugin.prototype.draw = function(){\n",
       "       var obj = mpld3.get_element(this.props.id);\n",
       "       var labels = this.props.labels;\n",
       "       var tooltip = d3.select(\"body\").append(\"div\")\n",
       "                    .attr(\"class\", \"mpld3-tooltip\")\n",
       "                    .style(\"position\", \"absolute\")\n",
       "                    .style(\"z-index\", \"10\")\n",
       "                    .style(\"visibility\", \"hidden\");\n",
       "\n",
       "       obj.elements()\n",
       "           .on(\"mouseover\", function(d, i){\n",
       "                              tooltip.html(labels[i])\n",
       "                                     .style(\"visibility\", \"visible\");})\n",
       "           .on(\"mousemove\", function(d, i){\n",
       "                    tooltip\n",
       "                      .style(\"top\", d3.event.pageY + this.props.voffset + \"px\")\n",
       "                      .style(\"left\",d3.event.pageX + this.props.hoffset + \"px\");\n",
       "                 }.bind(this))\n",
       "           .on(\"mouseout\",  function(d, i){\n",
       "                           tooltip.style(\"visibility\", \"hidden\");});\n",
       "    };\n",
       "    \n",
       "         mpld3.draw_figure(\"fig_el84322069311127116066519\", {\"axes\": [{\"xlim\": [0.0, 5.0], \"yscale\": \"linear\", \"axesbg\": \"#FFFFFF\", \"texts\": [], \"zoomable\": true, \"images\": [], \"xdomain\": [0.0, 5.0], \"ylim\": [0.0, 5.0], \"paths\": [], \"sharey\": [], \"sharex\": [], \"axesbgalpha\": null, \"axes\": [{\"scale\": \"linear\", \"tickformat\": null, \"grid\": {\"color\": \"#CCCCCC\", \"alpha\": 1.0, \"dasharray\": \"10,0\", \"gridOn\": true}, \"fontsize\": 10.0, \"position\": \"bottom\", \"nticks\": 6, \"tickvalues\": null}, {\"scale\": \"linear\", \"tickformat\": null, \"grid\": {\"color\": \"#CCCCCC\", \"alpha\": 1.0, \"dasharray\": \"10,0\", \"gridOn\": true}, \"fontsize\": 10.0, \"position\": \"left\", \"nticks\": 6, \"tickvalues\": null}], \"lines\": [], \"markers\": [{\"edgecolor\": \"#000000\", \"facecolor\": \"#4C72B0\", \"edgewidth\": 0.0, \"yindex\": 1, \"coordinates\": \"data\", \"zorder\": 2, \"markerpath\": [[[0.0, 5.0], [1.3260155, 5.0], [2.597899353924267, 4.473168457941209], [3.5355339059327378, 3.5355339059327378], [4.473168457941209, 2.597899353924267], [5.0, 1.3260155], [5.0, 0.0], [5.0, -1.3260155], [4.473168457941209, -2.597899353924267], [3.5355339059327378, -3.5355339059327378], [2.597899353924267, -4.473168457941209], [1.3260155, -5.0], [0.0, -5.0], [-1.3260155, -5.0], [-2.597899353924267, -4.473168457941209], [-3.5355339059327378, -3.5355339059327378], [-4.473168457941209, -2.597899353924267], [-5.0, -1.3260155], [-5.0, 0.0], [-5.0, 1.3260155], [-4.473168457941209, 2.597899353924267], [-3.5355339059327378, 3.5355339059327378], [-2.597899353924267, 4.473168457941209], [-1.3260155, 5.0], [0.0, 5.0]], [\"M\", \"C\", \"C\", \"C\", \"C\", \"C\", \"C\", \"C\", \"C\", \"Z\"]], \"alpha\": 1, \"xindex\": 0, \"data\": \"data01\", \"id\": \"el8432206826184pts\"}], \"id\": \"el8432213141880\", \"ydomain\": [0.0, 5.0], \"collections\": [], \"xscale\": \"linear\", \"bbox\": [0.125, 0.125, 0.77500000000000002, 0.77500000000000002]}], \"height\": 216.0, \"width\": 216.0, \"plugins\": [{\"type\": \"reset\"}, {\"enabled\": false, \"button\": true, \"type\": \"zoom\"}, {\"enabled\": false, \"button\": true, \"type\": \"boxzoom\"}, {\"voffset\": 10, \"labels\": [\"\\n        <div class='thumbnail'>\\n            <div class='caption'>\\n                <h3 class='movie-title'>Movie 1</h3>\\n                <img src=https://img1.doubanio.com/view/movie_poster_cover/mpst/public/p2369022569.jpg>\\n                <p><a class='btn btn-primary' >Button</a> <a href='#' class='btn btn-default'>Button</a></p>\\n            </div>\\n        </div>\", \"\\n        <div class='thumbnail'>\\n            <div class='caption'>\\n                <h3 class='movie-title'>Movie 2</h3>\\n                <img src=https://img1.doubanio.com/view/movie_poster_cover/mpst/public/p2373184418.jpg>\\n                <p><a class='btn btn-primary' >Button</a> <a href='#' class='btn btn-default'>Button</a></p>\\n            </div>\\n        </div>\", \"\\n        <div class='thumbnail'>\\n            <div class='caption'>\\n                <h3 class='movie-title'>Movie 3</h3>\\n                <img src=https://img3.doubanio.com/view/movie_poster_cover/mpst/public/p2372098911.jpg>\\n                <p><a class='btn btn-primary' >Button</a> <a href='#' class='btn btn-default'>Button</a></p>\\n            </div>\\n        </div>\", \"\\n        <div class='thumbnail'>\\n            <div class='caption'>\\n                <h3 class='movie-title'>Movie 3</h3>\\n                <img src=https://img3.doubanio.com/view/movie_poster_cover/mpst/public/p2372098911.jpg>\\n                <p><a class='btn btn-primary' >Button</a> <a href='#' class='btn btn-default'>Button</a></p>\\n            </div>\\n        </div>\", \"\\n        <div class='thumbnail'>\\n            <div class='caption'>\\n                <h3 class='movie-title'>Movie 3</h3>\\n                <img src=https://img3.doubanio.com/view/movie_poster_cover/mpst/public/p2372098911.jpg>\\n                <p><a class='btn btn-primary' >Button</a> <a href='#' class='btn btn-default'>Button</a></p>\\n            </div>\\n        </div>\", \"\\n        <div class='thumbnail'>\\n            <div class='caption'>\\n                <h3 class='movie-title'>Movie 3</h3>\\n                <img src=https://img3.doubanio.com/view/movie_poster_cover/mpst/public/p2372098911.jpg>\\n                <p><a class='btn btn-primary' >Button</a> <a href='#' class='btn btn-default'>Button</a></p>\\n            </div>\\n        </div>\", \"\\n        <div class='thumbnail'>\\n            <div class='caption'>\\n                <h3 class='movie-title'>Movie 3</h3>\\n                <img src=https://img3.doubanio.com/view/movie_poster_cover/mpst/public/p2372098911.jpg>\\n                <p><a class='btn btn-primary' >Button</a> <a href='#' class='btn btn-default'>Button</a></p>\\n            </div>\\n        </div>\"], \"type\": \"htmltooltip\", \"id\": \"el8432206826184pts\", \"hoffset\": 0}], \"data\": {\"data01\": [[0.0, 0.0], [1.0, 1.0], [2.0, 2.0], [3.0, 3.0], [4.0, 4.0], [5.0, 5.0]]}, \"id\": \"el8432206931112\"});\n",
       "      });\n",
       "    });\n",
       "}else{\n",
       "    // require.js not available: dynamically load d3 & mpld3\n",
       "    mpld3_load_lib(\"https://mpld3.github.io/js/d3.v3.min.js\", function(){\n",
       "         mpld3_load_lib(\"https://mpld3.github.io/js/mpld3.v0.2.js\", function(){\n",
       "                 \n",
       "    mpld3.register_plugin(\"htmltooltip\", HtmlTooltipPlugin);\n",
       "    HtmlTooltipPlugin.prototype = Object.create(mpld3.Plugin.prototype);\n",
       "    HtmlTooltipPlugin.prototype.constructor = HtmlTooltipPlugin;\n",
       "    HtmlTooltipPlugin.prototype.requiredProps = [\"id\"];\n",
       "    HtmlTooltipPlugin.prototype.defaultProps = {labels:null, hoffset:0, voffset:10};\n",
       "    function HtmlTooltipPlugin(fig, props){\n",
       "        mpld3.Plugin.call(this, fig, props);\n",
       "    };\n",
       "\n",
       "    HtmlTooltipPlugin.prototype.draw = function(){\n",
       "       var obj = mpld3.get_element(this.props.id);\n",
       "       var labels = this.props.labels;\n",
       "       var tooltip = d3.select(\"body\").append(\"div\")\n",
       "                    .attr(\"class\", \"mpld3-tooltip\")\n",
       "                    .style(\"position\", \"absolute\")\n",
       "                    .style(\"z-index\", \"10\")\n",
       "                    .style(\"visibility\", \"hidden\");\n",
       "\n",
       "       obj.elements()\n",
       "           .on(\"mouseover\", function(d, i){\n",
       "                              tooltip.html(labels[i])\n",
       "                                     .style(\"visibility\", \"visible\");})\n",
       "           .on(\"mousemove\", function(d, i){\n",
       "                    tooltip\n",
       "                      .style(\"top\", d3.event.pageY + this.props.voffset + \"px\")\n",
       "                      .style(\"left\",d3.event.pageX + this.props.hoffset + \"px\");\n",
       "                 }.bind(this))\n",
       "           .on(\"mouseout\",  function(d, i){\n",
       "                           tooltip.style(\"visibility\", \"hidden\");});\n",
       "    };\n",
       "    \n",
       "                 mpld3.draw_figure(\"fig_el84322069311127116066519\", {\"axes\": [{\"xlim\": [0.0, 5.0], \"yscale\": \"linear\", \"axesbg\": \"#FFFFFF\", \"texts\": [], \"zoomable\": true, \"images\": [], \"xdomain\": [0.0, 5.0], \"ylim\": [0.0, 5.0], \"paths\": [], \"sharey\": [], \"sharex\": [], \"axesbgalpha\": null, \"axes\": [{\"scale\": \"linear\", \"tickformat\": null, \"grid\": {\"color\": \"#CCCCCC\", \"alpha\": 1.0, \"dasharray\": \"10,0\", \"gridOn\": true}, \"fontsize\": 10.0, \"position\": \"bottom\", \"nticks\": 6, \"tickvalues\": null}, {\"scale\": \"linear\", \"tickformat\": null, \"grid\": {\"color\": \"#CCCCCC\", \"alpha\": 1.0, \"dasharray\": \"10,0\", \"gridOn\": true}, \"fontsize\": 10.0, \"position\": \"left\", \"nticks\": 6, \"tickvalues\": null}], \"lines\": [], \"markers\": [{\"edgecolor\": \"#000000\", \"facecolor\": \"#4C72B0\", \"edgewidth\": 0.0, \"yindex\": 1, \"coordinates\": \"data\", \"zorder\": 2, \"markerpath\": [[[0.0, 5.0], [1.3260155, 5.0], [2.597899353924267, 4.473168457941209], [3.5355339059327378, 3.5355339059327378], [4.473168457941209, 2.597899353924267], [5.0, 1.3260155], [5.0, 0.0], [5.0, -1.3260155], [4.473168457941209, -2.597899353924267], [3.5355339059327378, -3.5355339059327378], [2.597899353924267, -4.473168457941209], [1.3260155, -5.0], [0.0, -5.0], [-1.3260155, -5.0], [-2.597899353924267, -4.473168457941209], [-3.5355339059327378, -3.5355339059327378], [-4.473168457941209, -2.597899353924267], [-5.0, -1.3260155], [-5.0, 0.0], [-5.0, 1.3260155], [-4.473168457941209, 2.597899353924267], [-3.5355339059327378, 3.5355339059327378], [-2.597899353924267, 4.473168457941209], [-1.3260155, 5.0], [0.0, 5.0]], [\"M\", \"C\", \"C\", \"C\", \"C\", \"C\", \"C\", \"C\", \"C\", \"Z\"]], \"alpha\": 1, \"xindex\": 0, \"data\": \"data01\", \"id\": \"el8432206826184pts\"}], \"id\": \"el8432213141880\", \"ydomain\": [0.0, 5.0], \"collections\": [], \"xscale\": \"linear\", \"bbox\": [0.125, 0.125, 0.77500000000000002, 0.77500000000000002]}], \"height\": 216.0, \"width\": 216.0, \"plugins\": [{\"type\": \"reset\"}, {\"enabled\": false, \"button\": true, \"type\": \"zoom\"}, {\"enabled\": false, \"button\": true, \"type\": \"boxzoom\"}, {\"voffset\": 10, \"labels\": [\"\\n        <div class='thumbnail'>\\n            <div class='caption'>\\n                <h3 class='movie-title'>Movie 1</h3>\\n                <img src=https://img1.doubanio.com/view/movie_poster_cover/mpst/public/p2369022569.jpg>\\n                <p><a class='btn btn-primary' >Button</a> <a href='#' class='btn btn-default'>Button</a></p>\\n            </div>\\n        </div>\", \"\\n        <div class='thumbnail'>\\n            <div class='caption'>\\n                <h3 class='movie-title'>Movie 2</h3>\\n                <img src=https://img1.doubanio.com/view/movie_poster_cover/mpst/public/p2373184418.jpg>\\n                <p><a class='btn btn-primary' >Button</a> <a href='#' class='btn btn-default'>Button</a></p>\\n            </div>\\n        </div>\", \"\\n        <div class='thumbnail'>\\n            <div class='caption'>\\n                <h3 class='movie-title'>Movie 3</h3>\\n                <img src=https://img3.doubanio.com/view/movie_poster_cover/mpst/public/p2372098911.jpg>\\n                <p><a class='btn btn-primary' >Button</a> <a href='#' class='btn btn-default'>Button</a></p>\\n            </div>\\n        </div>\", \"\\n        <div class='thumbnail'>\\n            <div class='caption'>\\n                <h3 class='movie-title'>Movie 3</h3>\\n                <img src=https://img3.doubanio.com/view/movie_poster_cover/mpst/public/p2372098911.jpg>\\n                <p><a class='btn btn-primary' >Button</a> <a href='#' class='btn btn-default'>Button</a></p>\\n            </div>\\n        </div>\", \"\\n        <div class='thumbnail'>\\n            <div class='caption'>\\n                <h3 class='movie-title'>Movie 3</h3>\\n                <img src=https://img3.doubanio.com/view/movie_poster_cover/mpst/public/p2372098911.jpg>\\n                <p><a class='btn btn-primary' >Button</a> <a href='#' class='btn btn-default'>Button</a></p>\\n            </div>\\n        </div>\", \"\\n        <div class='thumbnail'>\\n            <div class='caption'>\\n                <h3 class='movie-title'>Movie 3</h3>\\n                <img src=https://img3.doubanio.com/view/movie_poster_cover/mpst/public/p2372098911.jpg>\\n                <p><a class='btn btn-primary' >Button</a> <a href='#' class='btn btn-default'>Button</a></p>\\n            </div>\\n        </div>\", \"\\n        <div class='thumbnail'>\\n            <div class='caption'>\\n                <h3 class='movie-title'>Movie 3</h3>\\n                <img src=https://img3.doubanio.com/view/movie_poster_cover/mpst/public/p2372098911.jpg>\\n                <p><a class='btn btn-primary' >Button</a> <a href='#' class='btn btn-default'>Button</a></p>\\n            </div>\\n        </div>\"], \"type\": \"htmltooltip\", \"id\": \"el8432206826184pts\", \"hoffset\": 0}], \"data\": {\"data01\": [[0.0, 0.0], [1.0, 1.0], [2.0, 2.0], [3.0, 3.0], [4.0, 4.0], [5.0, 5.0]]}, \"id\": \"el8432206931112\"});\n",
       "            })\n",
       "         });\n",
       "}\n",
       "</script>"
      ],
      "text/plain": [
       "<IPython.core.display.HTML object>"
      ]
     },
     "execution_count": 8,
     "metadata": {},
     "output_type": "execute_result"
    }
   ],
   "source": [
    "fig, ax = plt.subplots()\n",
    "points = ax.plot(range(6), 'o', ms=10) \n",
    "labels = [template.render(movie=movie) for movie in movie_list] \n",
    "\n",
    "plugins.connect(fig, plugins.PointHTMLTooltip(points[0], labels)) \n",
    "mpld3.display(fig)"
   ]
  },
  {
   "cell_type": "code",
   "execution_count": 9,
   "metadata": {
    "collapsed": false
   },
   "outputs": [
    {
     "data": {
      "text/html": [
       "\n",
       "        <link rel=\"stylesheet\" type=\"text/css\" href='./views/application.css' media=\"screen\" />\n",
       "        "
      ],
      "text/plain": [
       "<IPython.core.display.HTML object>"
      ]
     },
     "execution_count": 9,
     "metadata": {},
     "output_type": "execute_result"
    }
   ],
   "source": [
    "load_assets()"
   ]
  },
  {
   "cell_type": "code",
   "execution_count": null,
   "metadata": {
    "collapsed": true
   },
   "outputs": [],
   "source": []
  },
  {
   "cell_type": "code",
   "execution_count": 10,
   "metadata": {
    "collapsed": false
   },
   "outputs": [
    {
     "data": {
      "text/html": [
       "\n",
       "<div class='row'>\n",
       "    \n",
       "        <div class='col-xs-3'>\n",
       "            <div class='thumbnail'>\n",
       "                <div class='caption'>\n",
       "                    <h3 class='movie-title'>Movie 1</h3>\n",
       "                    <img src=https://img1.doubanio.com/view/movie_poster_cover/mpst/public/p2369022569.jpg>\n",
       "                    <p><a class='btn btn-primary' >Button</a> <a href='#' class='btn btn-default'>Button</a></p>\n",
       "                </div>\n",
       "            </div>\n",
       "        </div>\n",
       "    \n",
       "        <div class='col-xs-3'>\n",
       "            <div class='thumbnail'>\n",
       "                <div class='caption'>\n",
       "                    <h3 class='movie-title'>Movie 2</h3>\n",
       "                    <img src=https://img1.doubanio.com/view/movie_poster_cover/mpst/public/p2373184418.jpg>\n",
       "                    <p><a class='btn btn-primary' >Button</a> <a href='#' class='btn btn-default'>Button</a></p>\n",
       "                </div>\n",
       "            </div>\n",
       "        </div>\n",
       "    \n",
       "        <div class='col-xs-3'>\n",
       "            <div class='thumbnail'>\n",
       "                <div class='caption'>\n",
       "                    <h3 class='movie-title'>Movie 3</h3>\n",
       "                    <img src=https://img3.doubanio.com/view/movie_poster_cover/mpst/public/p2372098911.jpg>\n",
       "                    <p><a class='btn btn-primary' >Button</a> <a href='#' class='btn btn-default'>Button</a></p>\n",
       "                </div>\n",
       "            </div>\n",
       "        </div>\n",
       "    \n",
       "        <div class='col-xs-3'>\n",
       "            <div class='thumbnail'>\n",
       "                <div class='caption'>\n",
       "                    <h3 class='movie-title'>Movie 3</h3>\n",
       "                    <img src=https://img3.doubanio.com/view/movie_poster_cover/mpst/public/p2372098911.jpg>\n",
       "                    <p><a class='btn btn-primary' >Button</a> <a href='#' class='btn btn-default'>Button</a></p>\n",
       "                </div>\n",
       "            </div>\n",
       "        </div>\n",
       "    \n",
       "        <div class='col-xs-3'>\n",
       "            <div class='thumbnail'>\n",
       "                <div class='caption'>\n",
       "                    <h3 class='movie-title'>Movie 3</h3>\n",
       "                    <img src=https://img3.doubanio.com/view/movie_poster_cover/mpst/public/p2372098911.jpg>\n",
       "                    <p><a class='btn btn-primary' >Button</a> <a href='#' class='btn btn-default'>Button</a></p>\n",
       "                </div>\n",
       "            </div>\n",
       "        </div>\n",
       "    \n",
       "        <div class='col-xs-3'>\n",
       "            <div class='thumbnail'>\n",
       "                <div class='caption'>\n",
       "                    <h3 class='movie-title'>Movie 3</h3>\n",
       "                    <img src=https://img3.doubanio.com/view/movie_poster_cover/mpst/public/p2372098911.jpg>\n",
       "                    <p><a class='btn btn-primary' >Button</a> <a href='#' class='btn btn-default'>Button</a></p>\n",
       "                </div>\n",
       "            </div>\n",
       "        </div>\n",
       "    \n",
       "        <div class='col-xs-3'>\n",
       "            <div class='thumbnail'>\n",
       "                <div class='caption'>\n",
       "                    <h3 class='movie-title'>Movie 3</h3>\n",
       "                    <img src=https://img3.doubanio.com/view/movie_poster_cover/mpst/public/p2372098911.jpg>\n",
       "                    <p><a class='btn btn-primary' >Button</a> <a href='#' class='btn btn-default'>Button</a></p>\n",
       "                </div>\n",
       "            </div>\n",
       "        </div>\n",
       "    \n",
       "</div>"
      ],
      "text/plain": [
       "<IPython.core.display.HTML object>"
      ]
     },
     "execution_count": 10,
     "metadata": {},
     "output_type": "execute_result"
    }
   ],
   "source": [
    "template = Template('''\n",
    "<div class='row'>\n",
    "    {% for movie in movies %}\n",
    "        <div class='col-xs-3'>\n",
    "            <div class='thumbnail'>\n",
    "                <div class='caption'>\n",
    "                    <h3 class='movie-title'>{{movie['name']}}</h3>\n",
    "                    <img src={{movie['image_url']}}>\n",
    "                    <p><a class='btn btn-primary' >Button</a> <a href='#' class='btn btn-default'>Button</a></p>\n",
    "                </div>\n",
    "            </div>\n",
    "        </div>\n",
    "    {% endfor %}\n",
    "</div>\n",
    "''')\n",
    "HTML(template.render(movies=movie_list))"
   ]
  }
 ],
 "metadata": {
  "anaconda-cloud": {},
  "kernelspec": {
   "display_name": "Python [conda root]",
   "language": "python",
   "name": "conda-root-py"
  },
  "language_info": {
   "codemirror_mode": {
    "name": "ipython",
    "version": 3
   },
   "file_extension": ".py",
   "mimetype": "text/x-python",
   "name": "python",
   "nbconvert_exporter": "python",
   "pygments_lexer": "ipython3",
   "version": "3.5.2"
  }
 },
 "nbformat": 4,
 "nbformat_minor": 0
}
