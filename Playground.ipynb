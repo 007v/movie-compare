{
 "cells": [
  {
   "cell_type": "code",
   "execution_count": null,
   "metadata": {
    "collapsed": true
   },
   "outputs": [],
   "source": [
    "ssss"
   ]
  },
  {
   "cell_type": "code",
   "execution_count": null,
   "metadata": {
    "collapsed": false
   },
   "outputs": [],
   "source": [
    "%matplotlib inline\n",
    "import mpld3\n",
    "mpld3.enable_notebook()\n",
    "from mpld3 import plugins\n",
    "\n",
    "import matplotlib.pyplot as plt\n",
    "fig, ax = plt.subplots(1,1)\n",
    "xx = yy = range(0,3)\n",
    "scat = ax.scatter(xx, range(0,3))\n",
    "labels = [1,2,3]\n",
    "targets = map(lambda x, y: \"<marquee>It works!<br><h1>{}, {}</h1></marquee>\".format(x, y), \n",
    "              zip(xx, yy))\n",
    "\n",
    "from mpld3.plugins import PointClickableHTMLTooltip, MouseXPosition\n",
    "plugins.connect(fig, PointClickableHTMLTooltip(scat,targets = targets)) # failed\n",
    "# plugins.connect(fig, PointClickableHTMLTooltip(scat)) # worked"
   ]
  },
  {
   "cell_type": "code",
   "execution_count": null,
   "metadata": {
    "collapsed": true
   },
   "outputs": [],
   "source": [
    "sss"
   ]
  },
  {
   "cell_type": "code",
   "execution_count": null,
   "metadata": {
    "collapsed": true
   },
   "outputs": [],
   "source": [
    "from import_file import *\n",
    "\n",
    "import numpy as np\n",
    "from sklearn.cluster import MeanShift, estimate_bandwidth\n",
    "from sklearn.datasets.samples_generator import make_blobs\n",
    "\n",
    "\n",
    "centers = [[1, 1], [-1, -1], [1, -1]]\n",
    "X, _ = make_blobs(n_samples=10000, centers=centers, cluster_std=0.6)"
   ]
  },
  {
   "cell_type": "code",
   "execution_count": null,
   "metadata": {
    "collapsed": false
   },
   "outputs": [],
   "source": [
    "X"
   ]
  },
  {
   "cell_type": "code",
   "execution_count": null,
   "metadata": {
    "collapsed": false
   },
   "outputs": [],
   "source": [
    "# The following bandwidth can be automatically detected using\n",
    "bandwidth = estimate_bandwidth(X, quantile=0.2, n_samples=500)\n",
    "\n",
    "ms = MeanShift(bandwidth=bandwidth, bin_seeding=True)\n",
    "ms.fit(X)\n",
    "labels = ms.labels_\n",
    "cluster_centers = ms.cluster_centers_\n",
    "\n",
    "labels_unique = np.unique(labels)\n",
    "n_clusters_ = len(labels_unique)\n",
    "\n",
    "print(\"number of estimated clusters : %d\" % n_clusters_)"
   ]
  },
  {
   "cell_type": "code",
   "execution_count": null,
   "metadata": {
    "collapsed": false
   },
   "outputs": [],
   "source": [
    "import matplotlib.pyplot as plt\n",
    "from itertools import cycle\n",
    "\n",
    "plt.figure(1)\n",
    "plt.clf()\n",
    "\n",
    "colors = cycle('bgrcmykbgrcmykbgrcmykbgrcmyk')\n",
    "for k, col in zip(range(n_clusters_), colors):\n",
    "    my_members = labels == k\n",
    "    cluster_center = cluster_centers[k]\n",
    "    plt.plot(X[my_members, 0], X[my_members, 1], col + '.')\n",
    "    plt.plot(cluster_center[0], cluster_center[1], 'o', markerfacecolor=col,\n",
    "             markeredgecolor='k', markersize=14)\n",
    "plt.title('Estimated number of clusters: %d' % n_clusters_)\n",
    "plt.show()"
   ]
  },
  {
   "cell_type": "code",
   "execution_count": null,
   "metadata": {
    "collapsed": true
   },
   "outputs": [],
   "source": [
    "sss"
   ]
  },
  {
   "cell_type": "code",
   "execution_count": null,
   "metadata": {
    "collapsed": false
   },
   "outputs": [],
   "source": [
    "from import_file import *\n",
    "file_name = '2008_movie.csv'\n",
    "df = pd.read_csv(file_name, header = 0)\n",
    "movie_links = df['link'].tolist()"
   ]
  },
  {
   "cell_type": "code",
   "execution_count": null,
   "metadata": {
    "collapsed": false
   },
   "outputs": [],
   "source": [
    "# df"
   ]
  },
  {
   "cell_type": "code",
   "execution_count": null,
   "metadata": {
    "collapsed": false
   },
   "outputs": [],
   "source": [
    "import scrapy\n",
    "from scrapy.crawler import CrawlerProcess\n",
    "\n",
    "class MovieSpider(scrapy.Spider):\n",
    "    name = \"movies\"\n",
    "    start_urls = movie_links\n",
    "#     start_urls = [\n",
    "#         'https://movie.douban.com/subject/26388624/',\n",
    "#         'https://movie.douban.com/subject/25934014/',\n",
    "#         'https://movie.douban.com/subject/25852314/',\n",
    "#         'https://movie.douban.com/subject/25858763/',\n",
    "#         'https://movie.douban.com/subject/4811813/'\n",
    "#     ]\n",
    "\n",
    "    def parse(self, response):\n",
    "        title = response.css('div#wrapper div#content h1 span::text').extract_first()\n",
    "        year = response.css('div#wrapper div#content h1 span.year::text').extract_first().strip('()')\n",
    "        img_url = response.css('div#mainpic a.nbgnbg img::attr(src)').extract_first()\n",
    "        \n",
    "        rating = response.css('div.rating_self.clearfix strong.ll.rating_num::text').extract_first()\n",
    "        star_distributions = response.css('div.ratings-on-weight div.item span.rating_per::text').extract()\n",
    "        ratings_num = response.css('div.rating_sum a.rating_people span::text').extract_first()\n",
    "        \n",
    "        imdb_id = ''\n",
    "        for link in response.css('div#info a'):\n",
    "            if 'imdb' in link.css('::attr(href)').extract_first():\n",
    "                imdb_id = link.css('::text').extract_first()\n",
    "\n",
    "        yield {\n",
    "            'url': response.url,\n",
    "            'title': title,\n",
    "            'img_url': img_url,\n",
    "            'year': year,\n",
    "            'rating': rating,\n",
    "            'ratings_num': ratings_num,\n",
    "            '5_star': star_distributions[0],\n",
    "            '4_star': star_distributions[1],\n",
    "            '3_star': star_distributions[2],\n",
    "            '2_star': star_distributions[3],\n",
    "            '1_star': star_distributions[4],\n",
    "            'imdb_id': imdb_id\n",
    "        }"
   ]
  },
  {
   "cell_type": "code",
   "execution_count": null,
   "metadata": {
    "collapsed": false,
    "scrolled": false
   },
   "outputs": [],
   "source": [
    "process = CrawlerProcess({\n",
    "    'USER_AGENT': 'Mozilla/4.0 (compatible; MSIE 7.0; Windows NT 5.1)',\n",
    "    'FEED_FORMAT': 'json',\n",
    "    'FEED_URI': 'movie_2008.json',\n",
    "    'FEED_EXPORT_ENCODING':'utf-8',\n",
    "    'COOKIES_ENABLED': False,\n",
    "    'DOWNLOAD_DELAY': 2,\n",
    "})\n",
    "\n",
    "process.crawl(MovieSpider)\n",
    "process.start() "
   ]
  },
  {
   "cell_type": "code",
   "execution_count": null,
   "metadata": {
    "collapsed": false
   },
   "outputs": [],
   "source": [
    "sss"
   ]
  },
  {
   "cell_type": "code",
   "execution_count": null,
   "metadata": {
    "collapsed": false
   },
   "outputs": [],
   "source": [
    "%matplotlib inline\n",
    "%load_ext autoreload\n",
    "%autoreload 2\n",
    "\n",
    "from __future__ import division\n",
    "from import_file import *\n",
    "load_libs()\n",
    "\n",
    "import json\n",
    "from pprint import pprint"
   ]
  },
  {
   "cell_type": "code",
   "execution_count": null,
   "metadata": {
    "collapsed": true
   },
   "outputs": [],
   "source": [
    "def category_overview(df, category_name, category):   \n",
    "    sub_df = df[df[category_name].str.contains(category)]\n",
    "    fig, fit_fn , scatter_plot = plot_movie_scatter_comparison(sub_df)\n",
    "    slope = fit_fn[1]\n",
    "    print(category, len(sub_df), fit_fn)\n",
    "    return len(sub_df), slope"
   ]
  },
  {
   "cell_type": "code",
   "execution_count": null,
   "metadata": {
    "collapsed": true
   },
   "outputs": [],
   "source": [
    "# Documentary ineffective\n",
    "categories = [\"Romance\", \"Drama\", \"Action\", 'Sci-Fi', 'Animation', 'Mystery', 'Crime', 'Adventure', 'Comedy']\n",
    "slopes = []\n",
    "for category in categories:\n",
    "    movie_number, slope = category_overview(df, 'genre',category)\n",
    "    slopes.append(slope)\n",
    "    plt_configure(title=category + ' (N: '+str(movie_number) +')')\n",
    "    plt.gcf().set_size_inches(2.5,2.5)\n",
    "align_figures()"
   ]
  },
  {
   "cell_type": "code",
   "execution_count": null,
   "metadata": {
    "collapsed": false
   },
   "outputs": [],
   "source": [
    "N = 5\n",
    "menMeans = (20, 35, 30, 35, 27)\n",
    "menStd = (2, 3, 4, 1, 2)\n",
    "\n",
    "ind = np.arange(N)  # the x locations for the groups\n",
    "width = 0.35       # the width of the bars\n",
    "\n",
    "fig, ax = plt.subplots()\n",
    "rects1 = ax.bar(ind, menMeans, width)\n",
    "ax.set_xticks(ind + width/2)\n",
    "ax.set_xticklabels(('G1', 'G2', 'G3', 'G4', 'G5'))"
   ]
  },
  {
   "cell_type": "code",
   "execution_count": null,
   "metadata": {
    "collapsed": false
   },
   "outputs": [],
   "source": [
    "# fig, ax = plt.subplots()\n",
    "plt.plot([3,1,4,1,5], 'ks-', mec='w', mew=5, ms=20)\n",
    "fig=plt.gcf()\n",
    "plt.gca().set_title('测试')"
   ]
  },
  {
   "cell_type": "code",
   "execution_count": null,
   "metadata": {
    "collapsed": true
   },
   "outputs": [],
   "source": [
    "file_name = 'test.html'\n",
    "mpld3.save_html(fig, './docs/'+file_name)"
   ]
  },
  {
   "cell_type": "code",
   "execution_count": null,
   "metadata": {
    "collapsed": true
   },
   "outputs": [],
   "source": [
    "movie_list = [\n",
    "    {'name': 'Movie 1',\n",
    "    'genre' :'Action, Fantasy, Horror'},\n",
    "    {'name': 'Movie 2',\n",
    "    'genre' :'Action, Comedy, Family'},\n",
    "    {'name': 'Movie 3',\n",
    "    'genre' :'Biography, Drama'},\n",
    "    {'name': 'Movie 4',\n",
    "    'genre' :'Biography, Drama, Romance'},\n",
    "    {'name': 'Movie 5',\n",
    "    'genre' :'Drama'},\n",
    "    {'name': 'Movie 6',\n",
    "    'genre' :'Documentary'},\n",
    "]"
   ]
  },
  {
   "cell_type": "code",
   "execution_count": null,
   "metadata": {
    "collapsed": false
   },
   "outputs": [],
   "source": [
    "import sass\n",
    "print sass.compile(string='a { b { color: blue; } }')"
   ]
  },
  {
   "cell_type": "code",
   "execution_count": null,
   "metadata": {
    "collapsed": false
   },
   "outputs": [],
   "source": [
    "N = 500\n",
    "x = np.linspace(0, 1, N)\n",
    "y = np.random.randn(N)\n",
    "df = pd.DataFrame({'x': x, 'y': y})\n",
    "df.describe()"
   ]
  },
  {
   "cell_type": "code",
   "execution_count": null,
   "metadata": {
    "collapsed": false
   },
   "outputs": [],
   "source": [
    "data = df.to_dict(orient='records')"
   ]
  },
  {
   "cell_type": "code",
   "execution_count": null,
   "metadata": {
    "collapsed": false
   },
   "outputs": [],
   "source": [
    "x, bins,_ = plt.hist(df.x, normed=True)"
   ]
  },
  {
   "cell_type": "code",
   "execution_count": null,
   "metadata": {
    "collapsed": false
   },
   "outputs": [],
   "source": [
    "print x \n",
    "print bins\n",
    "print np.diff(bins)\n",
    "np.sum(x * np.diff(bins))"
   ]
  },
  {
   "cell_type": "code",
   "execution_count": null,
   "metadata": {
    "collapsed": false
   },
   "outputs": [],
   "source": [
    "button = '''<A HREF= \"#\" onClick=\"window.open('./test.html', 'Sample');return false\">\n",
    "See the sample</A>.\n",
    "'''\n",
    "HTML(button)"
   ]
  },
  {
   "cell_type": "code",
   "execution_count": null,
   "metadata": {
    "collapsed": true
   },
   "outputs": [],
   "source": [
    "import mpld3\n",
    "# mpld3.enable_notebook()\n",
    "from mpld3 import plugins\n",
    "from jinja2 import Template"
   ]
  },
  {
   "cell_type": "code",
   "execution_count": null,
   "metadata": {
    "collapsed": false
   },
   "outputs": [],
   "source": [
    "fig, ax = plt.subplots()\n",
    "x, y = np.random.rand(40), np.random.rand(40)\n",
    "scatter_plot = ax.scatter(x, y, s=300, alpha=0.3)\n",
    "\n",
    "labels = [\"{0}, {1}\".format(round(point[0],2), round(point[1],2)) for point in zip(x, y)]\n",
    "tooltip = plugins.PointLabelTooltip(scatter_plot, labels)\n",
    "\n",
    "\n",
    "plugins.connect(fig, tooltip)\n",
    "mpld3.display(fig)"
   ]
  },
  {
   "cell_type": "code",
   "execution_count": null,
   "metadata": {
    "collapsed": true
   },
   "outputs": [],
   "source": [
    "from IPython.display import display, HTML, Javascript\n",
    "from jinja2 import Template\n",
    "movie_list = [\n",
    "    {'name': 'Movie 1',\n",
    "    'image_url' :'https://img1.doubanio.com/view/movie_poster_cover/mpst/public/p2369022569.jpg'},\n",
    "    {'name': 'Movie 2',\n",
    "    'image_url' :'https://img1.doubanio.com/view/movie_poster_cover/mpst/public/p2373184418.jpg'},\n",
    "    {'name': 'Movie 3',\n",
    "    'image_url' :'https://img3.doubanio.com/view/movie_poster_cover/mpst/public/p2372098911.jpg'},\n",
    "    {'name': 'Movie 3',\n",
    "    'image_url' :'https://img3.doubanio.com/view/movie_poster_cover/mpst/public/p2372098911.jpg'},\n",
    "    {'name': 'Movie 3',\n",
    "    'image_url' :'https://img3.doubanio.com/view/movie_poster_cover/mpst/public/p2372098911.jpg'},\n",
    "    {'name': 'Movie 3',\n",
    "    'image_url' :'https://img3.doubanio.com/view/movie_poster_cover/mpst/public/p2372098911.jpg'},\n",
    "    {'name': 'Movie 3',\n",
    "    'image_url' :'https://img3.doubanio.com/view/movie_poster_cover/mpst/public/p2372098911.jpg'},\n",
    "]"
   ]
  },
  {
   "cell_type": "code",
   "execution_count": null,
   "metadata": {
    "collapsed": false
   },
   "outputs": [],
   "source": [
    "template = Template('''\n",
    "        <div class='thumbnail'>\n",
    "            <div class='caption'>\n",
    "                <h3 class='movie-title'>{{movie['name']}}</h3>\n",
    "                <img src={{movie['image_url']}}>\n",
    "                <p><a class='btn btn-primary' >Button</a> <a href='#' class='btn btn-default'>Button</a></p>\n",
    "            </div>\n",
    "        </div>\n",
    "''')"
   ]
  },
  {
   "cell_type": "code",
   "execution_count": null,
   "metadata": {
    "collapsed": false
   },
   "outputs": [],
   "source": [
    "fig, ax = plt.subplots()\n",
    "points = ax.plot(range(6), 'o', ms=10) \n",
    "labels = [template.render(movie=movie) for movie in movie_list] \n",
    "\n",
    "plugins.connect(fig, plugins.PointHTMLTooltip(points[0], labels)) \n",
    "mpld3.display(fig)"
   ]
  },
  {
   "cell_type": "code",
   "execution_count": null,
   "metadata": {
    "collapsed": false
   },
   "outputs": [],
   "source": [
    "load_assets()"
   ]
  },
  {
   "cell_type": "code",
   "execution_count": null,
   "metadata": {
    "collapsed": true
   },
   "outputs": [],
   "source": []
  },
  {
   "cell_type": "code",
   "execution_count": null,
   "metadata": {
    "collapsed": false
   },
   "outputs": [],
   "source": [
    "template = Template('''\n",
    "<div class='row'>\n",
    "    {% for movie in movies %}\n",
    "        <div class='col-xs-3'>\n",
    "            <div class='thumbnail'>\n",
    "                <div class='caption'>\n",
    "                    <h3 class='movie-title'>{{movie['name']}}</h3>\n",
    "                    <img src={{movie['image_url']}}>\n",
    "                    <p><a class='btn btn-primary' >Button</a> <a href='#' class='btn btn-default'>Button</a></p>\n",
    "                </div>\n",
    "            </div>\n",
    "        </div>\n",
    "    {% endfor %}\n",
    "</div>\n",
    "''')\n",
    "HTML(template.render(movies=movie_list))"
   ]
  }
 ],
 "metadata": {
  "anaconda-cloud": {},
  "kernelspec": {
   "display_name": "Python [conda root]",
   "language": "python",
   "name": "conda-root-py"
  },
  "language_info": {
   "codemirror_mode": {
    "name": "ipython",
    "version": 3
   },
   "file_extension": ".py",
   "mimetype": "text/x-python",
   "name": "python",
   "nbconvert_exporter": "python",
   "pygments_lexer": "ipython3",
   "version": "3.5.2"
  }
 },
 "nbformat": 4,
 "nbformat_minor": 0
}
