{
 "cells": [
  {
   "cell_type": "code",
   "execution_count": null,
   "metadata": {
    "collapsed": false
   },
   "outputs": [],
   "source": [
    "%matplotlib inline\n",
    "%load_ext autoreload\n",
    "%autoreload 2\n",
    "\n",
    "from __future__ import division\n",
    "from import_file import *\n",
    "load_libs()"
   ]
  },
  {
   "cell_type": "code",
   "execution_count": null,
   "metadata": {
    "collapsed": true
   },
   "outputs": [],
   "source": [
    "import mpld3\n",
    "from mpld3 import plugins\n",
    "from jinja2 import Template\n",
    "# mpl.rcParams['figure.figsize'] = 3,3"
   ]
  },
  {
   "cell_type": "markdown",
   "metadata": {},
   "source": [
    "# 1. Data Wrangling"
   ]
  },
  {
   "cell_type": "code",
   "execution_count": null,
   "metadata": {
    "collapsed": false
   },
   "outputs": [],
   "source": [
    "data = []\n",
    "for year in range(2010,2014):\n",
    "    file = \"./data/movie_list_%s_v2.json\" % year\n",
    "    with open(file ) as data_file:    \n",
    "        data += json.load(data_file)\n",
    "    \n",
    "df = pd.DataFrame(data)\n",
    "df.describe()"
   ]
  },
  {
   "cell_type": "code",
   "execution_count": null,
   "metadata": {
    "collapsed": false
   },
   "outputs": [],
   "source": [
    "# Problem, handling unicode json\n",
    "df.drop_duplicates('movie_tt_id', inplace=True)\n",
    "df['temp_string'] = df['douban_info'].astype(str)\n",
    "df.drop_duplicates('temp_string', inplace=True)\n",
    "df['temp_string'] = df['omdb_info'].astype(str)\n",
    "df.drop_duplicates('temp_string', inplace=True)\n",
    "df = df.dropna()\n",
    "df.drop('temp_string', 1, inplace=True)\n",
    "df.drop('detail_url', 1, inplace=True)\n",
    "df.describe()"
   ]
  },
  {
   "cell_type": "code",
   "execution_count": null,
   "metadata": {
    "collapsed": false
   },
   "outputs": [],
   "source": [
    "df['omdb_info'][0]"
   ]
  },
  {
   "cell_type": "code",
   "execution_count": null,
   "metadata": {
    "collapsed": false
   },
   "outputs": [],
   "source": [
    "# Data problems\n",
    "# 1.['imdb_info']['imdbRating'] do not exist\n",
    "# 2.['imdb_rating'] is 'N/A', at id 108, 273\n",
    "# 3.['imdb_rating'] is '23,421', need to get rid of the comma\n",
    "\n",
    "df['imdb_rating'] = df['omdb_info'].apply(lambda x: x.get('imdbRating', np.nan))\n",
    "df['metascore'] = df['omdb_info'].apply(lambda x: x.get('Metascore', np.nan))\n",
    "df = df.dropna()\n",
    "df = df[(df.imdb_rating != 'N/A') &(df.metascore != 'N/A')]\n",
    "df['imdb_ratings_count'] = df['omdb_info'].apply(lambda x: int(x['imdbVotes'].replace(',', '')))\n",
    "df['db_rating'] = df['douban_info'].apply(lambda x: x['rating']['average'])\n",
    "df['db_ratings_count'] = df['douban_info'].apply(lambda x: x['ratings_count'])\n",
    "df['imdb_rating'] = df['imdb_rating'].astype(float)\n",
    "df['imdb_ratings_count'] = df['imdb_ratings_count'].astype(float)\n",
    "df['name'] = df['name'].apply(lambda x: x.encode('ascii','ignore'))\n",
    "df['metascore'] = df['metascore'].astype(float)\n",
    "df['metascore'] = df['metascore']/10\n",
    "df['genre']=df['omdb_info'].apply(lambda x: x.get('Genre', 'none'))\n",
    "df['image_url']=df['omdb_info'].apply(lambda x: x.get('Poster', 'none'))\n",
    "df['douban_url']=df['douban_info'].apply(lambda x: x['alt'])\n",
    "\n",
    "df.drop('douban_info', 1, inplace=True)\n",
    "df.drop('omdb_info', 1, inplace=True)"
   ]
  },
  {
   "cell_type": "markdown",
   "metadata": {},
   "source": [
    "# 2. Movie Overview"
   ]
  },
  {
   "cell_type": "code",
   "execution_count": null,
   "metadata": {
    "collapsed": false
   },
   "outputs": [],
   "source": [
    "df.describe()"
   ]
  },
  {
   "cell_type": "code",
   "execution_count": null,
   "metadata": {
    "collapsed": false
   },
   "outputs": [],
   "source": [
    "# bins=arange(-0.05,10,0.1)\n",
    "bins=linspace(0,10)\n",
    "df['imdb_rating'].hist(bins=bins, alpha=0.5, normed=True, label = 'IMDB')\n",
    "df['db_rating'].hist(bins=bins, alpha=0.5,  normed=True, label = 'douban')\n",
    "plt.legend()"
   ]
  },
  {
   "cell_type": "markdown",
   "metadata": {},
   "source": [
    "可以发现，有的电影豆瓣电影没有分数。应该把这些去掉\n",
    "\n",
    "（可以看看这些电影是什么样的）"
   ]
  },
  {
   "cell_type": "markdown",
   "metadata": {},
   "source": [
    "## 2.1 Empty Score Moives"
   ]
  },
  {
   "cell_type": "code",
   "execution_count": null,
   "metadata": {
    "collapsed": false
   },
   "outputs": [],
   "source": [
    "empty_df = df.query('db_rating == 0')\n",
    "display(empty_df.describe())\n",
    "fig=plt.figure()\n",
    "empty_df['imdb_rating'].hist(bins=arange(-0.05,10,0.1), alpha=0.5)\n",
    "plt_configure(title='No Douban rating, IMDB Rating Distribution',figsize=(3,2))\n",
    "fig=plt.figure()\n",
    "empty_df['imdb_ratings_count'].hist(bins=50)\n",
    "plt_configure(title='No Douban rating, IMDB Rating Count Distribution', figsize=(3,2))\n",
    "align_figures()"
   ]
  },
  {
   "cell_type": "code",
   "execution_count": null,
   "metadata": {
    "collapsed": false
   },
   "outputs": [],
   "source": [
    "# these 2 table can be combined with an interactive table sorting\n",
    "# empty_df.sort_values(by='imdb_rating',ascending=False).head()"
   ]
  },
  {
   "cell_type": "code",
   "execution_count": null,
   "metadata": {
    "collapsed": false
   },
   "outputs": [],
   "source": [
    "empty_df.sort_values(by='imdb_ratings_count',ascending=False).head()"
   ]
  },
  {
   "cell_type": "code",
   "execution_count": null,
   "metadata": {
    "collapsed": false
   },
   "outputs": [],
   "source": [
    "empty_df.plot(kind='scatter', x='imdb_rating', y='imdb_ratings_count', alpha=0.30)"
   ]
  },
  {
   "cell_type": "markdown",
   "metadata": {},
   "source": [
    "## 2.2 Delete Empty movies, Go ahead"
   ]
  },
  {
   "cell_type": "code",
   "execution_count": null,
   "metadata": {
    "collapsed": false
   },
   "outputs": [],
   "source": [
    "df = df.query('db_rating > 0')"
   ]
  },
  {
   "cell_type": "markdown",
   "metadata": {},
   "source": [
    "# 3. Movie Overview (两种评分都有的)"
   ]
  },
  {
   "cell_type": "markdown",
   "metadata": {},
   "source": [
    "## 3.1 Overall Info"
   ]
  },
  {
   "cell_type": "code",
   "execution_count": null,
   "metadata": {
    "collapsed": false
   },
   "outputs": [],
   "source": [
    "df.describe()"
   ]
  },
  {
   "cell_type": "code",
   "execution_count": null,
   "metadata": {
    "collapsed": false
   },
   "outputs": [],
   "source": [
    "# 1. Why douban is higher?\n",
    "# 2. Why the std is close to 1? (but IMDB < Douban, indicating a narrower distribution)\n",
    "bins=linspace(0,10)\n",
    "df['imdb_rating'].hist(bins=bins, alpha=0.5, normed=True, label = 'IMDB')\n",
    "df['db_rating'].hist(bins=bins,alpha=0.5,  normed=True, label = 'douban')\n",
    "plt_configure(xlabel='Rating',ylabel='Frequency', title='Rating Distribution', legend=True)"
   ]
  },
  {
   "cell_type": "markdown",
   "metadata": {},
   "source": [
    "1. 两者大致分布正态分布，可以认为样本量基本足够\n",
    "2. 这不是标准的正态分布，有偏度。原因？\n",
    "3. 豆瓣电影偏高（相对有移动了）"
   ]
  },
  {
   "cell_type": "code",
   "execution_count": null,
   "metadata": {
    "collapsed": false
   },
   "outputs": [],
   "source": [
    "df['metascore'].hist(bins=bins, normed=True, label = 'Metascore')\n",
    "df['imdb_rating'].hist(bins=bins, alpha=0.5, normed=True, label = 'IMDB')\n",
    "df['db_rating'].hist(bins=bins,alpha=0.5,  normed=True, label = 'douban')\n",
    "plt_configure(xlabel='Rating',ylabel='Frequency', title='Rating Distribution', legend=True)"
   ]
  },
  {
   "cell_type": "markdown",
   "metadata": {},
   "source": [
    "并不是所有的影评分布都会类似. 比如Metascore的分布，就大为不同\n",
    "\n",
    "Metascore的分数经过了人工的调整、加权，所以分布差别很大"
   ]
  },
  {
   "cell_type": "markdown",
   "metadata": {},
   "source": [
    "## 3.2 Good Movies"
   ]
  },
  {
   "cell_type": "markdown",
   "metadata": {},
   "source": [
    "Any your favorite?"
   ]
  },
  {
   "cell_type": "markdown",
   "metadata": {},
   "source": [
    "### 3.2.1 Order by IMDB Rating"
   ]
  },
  {
   "cell_type": "code",
   "execution_count": null,
   "metadata": {
    "collapsed": false
   },
   "outputs": [],
   "source": [
    "# Good Movies\n",
    "# display(df.sort_values(by='imdb_rating',ascending=False).head(5))\n",
    "movie_list(df.sort_values(by='imdb_rating',ascending=False))"
   ]
  },
  {
   "cell_type": "markdown",
   "metadata": {},
   "source": [
    "### 3.2.2 Order by Douban Rating"
   ]
  },
  {
   "cell_type": "code",
   "execution_count": null,
   "metadata": {
    "collapsed": false
   },
   "outputs": [],
   "source": [
    "movie_list(df.sort_values(by='db_rating',ascending=False))"
   ]
  },
  {
   "cell_type": "markdown",
   "metadata": {},
   "source": [
    "## 3.3 Scatter Comparison"
   ]
  },
  {
   "cell_type": "markdown",
   "metadata": {},
   "source": [
    "scatter,可以非常直观的比较两者的差别"
   ]
  },
  {
   "cell_type": "code",
   "execution_count": null,
   "metadata": {
    "collapsed": false
   },
   "outputs": [],
   "source": [
    "fig, _ , scatter_plot = plot_movie_scatter_comparison(df, title='')"
   ]
  },
  {
   "cell_type": "code",
   "execution_count": null,
   "metadata": {
    "collapsed": false,
    "scrolled": true
   },
   "outputs": [],
   "source": [
    "turn_scatter_into_interactive(fig, scatter_plot, df, 'movie_compare_all.html')"
   ]
  },
  {
   "cell_type": "markdown",
   "metadata": {},
   "source": [
    "对比回归线，可以看到\n",
    "1. 并不是1:1的关系，斜率不同（原因？可能是打分制？），而且分数越高，差别越大\n",
    "\n",
    "    - IMDB: 10星制。没有人会打10星  \n",
    "    - 豆瓣：5星制。4星以上都会打5星\n",
    "    \n",
    "    豆瓣的打分制概念简单，不需要太精确，体验更好。\n",
    "\n",
    "2. IMDB比豆瓣要齐整得多。豆瓣确实有一些电影，偏离回归线较大[(4,6)附近]\n",
    "\n",
    "3. Play with the scatter, 发现“打分人数”的问题"
   ]
  },
  {
   "cell_type": "markdown",
   "metadata": {},
   "source": [
    "## 3.4 Rating Number Problem"
   ]
  },
  {
   "cell_type": "code",
   "execution_count": null,
   "metadata": {
    "collapsed": false
   },
   "outputs": [],
   "source": [
    "for min_ratings_number in [0, 1000,3000,5000,10000, 20000,40000]:\n",
    "    min_ratings_number = min_ratings_number\n",
    "    temp_df = df.query(\"(db_ratings_count > @min_ratings_number) & \\\n",
    "                   (imdb_ratings_count > @min_ratings_number)\")\n",
    "    title = 'Min Rating: ' + str(min_ratings_number)\n",
    "    fig, fit_params, _ = plot_movie_scatter_comparison(temp_df, title=title)\n",
    "    fig.set_size_inches(2.5,2.5)\n",
    "    fig.show()\n",
    "    print min_ratings_number, fit_params[1], len(temp_df)\n",
    "align_figures()"
   ]
  },
  {
   "cell_type": "markdown",
   "metadata": {},
   "source": [
    "对比上面这几张图，可以发现随着评分人数的增加，偏离逐渐收窄，但并不迅速收窄\n",
    "\n",
    "一直到4W人以上，豆瓣和IMDB才算均衡。也就是说，\n",
    "- 部分电影的偏离，确实是由于看的人很少，打分不客观引起（打分样本过少）\n",
    "- 部分偏离的电影，是有相当一部分人观看的 （>3K），这个现象确实存在"
   ]
  },
  {
   "cell_type": "markdown",
   "metadata": {},
   "source": [
    "### 3.4.1 Ratings Number Distribution (Optional)"
   ]
  },
  {
   "cell_type": "code",
   "execution_count": null,
   "metadata": {
    "collapsed": false
   },
   "outputs": [],
   "source": [
    "# # This plot is not very informative, what can I do?\n",
    "# # Why is this kind distribution? -> Poisson\n",
    "# fig=plt.figure()\n",
    "# df['imdb_ratings_count'].hist(bins=50, alpha=0.5, figsize=(4,3))\n",
    "# plt_configure(title='IMDB', xlabel='rating_number', ylabel='Frequency')\n",
    "# fig=plt.figure()\n",
    "# df['db_ratings_count'].hist(bins=50, alpha=0.5, figsize=(4,3))\n",
    "# plt_configure(title='Douban', xlabel='rating_number', ylabel='Frequency')\n",
    "# align_figures()"
   ]
  },
  {
   "cell_type": "code",
   "execution_count": null,
   "metadata": {
    "collapsed": false
   },
   "outputs": [],
   "source": [
    "# fig=plt.figure()\n",
    "# df['imdb_ratings_count'].hist(bins=linspace(0,100000), alpha=0.5, figsize=(4,3))\n",
    "# plt_configure(title='IMDB', xlabel='rating_number', ylabel='Frequency')\n",
    "# fig=plt.figure()\n",
    "# df['db_ratings_count'].hist(bins=linspace(0,50000), alpha=0.5, figsize=(4,3))\n",
    "# plt_configure(title='Douban', xlabel='rating_number', ylabel='Frequency')\n",
    "# align_figures()"
   ]
  },
  {
   "cell_type": "markdown",
   "metadata": {},
   "source": [
    "### 3.4.2 Correlation between Rating and Rating Numbers (Optional)"
   ]
  },
  {
   "cell_type": "code",
   "execution_count": null,
   "metadata": {
    "collapsed": false
   },
   "outputs": [],
   "source": [
    "# df.plot(kind='scatter', x='db_ratings_count', y='imdb_ratings_count', alpha=0.30)\n",
    "# plt_configure(title='Douban ratings count vs. IMDB ratings count')"
   ]
  },
  {
   "cell_type": "code",
   "execution_count": null,
   "metadata": {
    "collapsed": false,
    "scrolled": false
   },
   "outputs": [],
   "source": [
    "# fig, ax = plt.subplots()\n",
    "# df.plot(ax=ax, kind='scatter', x='imdb_rating', y='imdb_ratings_count', alpha=0.30)\n",
    "# plt_configure(title='IMDB rating vs. ratings count', figsize=(4,3))\n",
    "# fig, ax = plt.subplots()\n",
    "# df.plot(ax=ax, kind='scatter', x='db_rating', y='db_ratings_count', alpha=0.30)\n",
    "# plt_configure(title='Douban rating vs. ratings count', figsize=(4,3))\n",
    "# align_figures()"
   ]
  },
  {
   "cell_type": "markdown",
   "metadata": {},
   "source": [
    "# 4. Comparison among Popular Movies"
   ]
  },
  {
   "cell_type": "markdown",
   "metadata": {},
   "source": [
    "重新选择评分人数更多的电影，更有说服力"
   ]
  },
  {
   "cell_type": "markdown",
   "metadata": {},
   "source": [
    "## 4.1 Overviews"
   ]
  },
  {
   "cell_type": "code",
   "execution_count": null,
   "metadata": {
    "collapsed": false
   },
   "outputs": [],
   "source": [
    "min_ratings_number = 2000\n",
    "df = df.query(\"(db_ratings_count > @min_ratings_number) & \\\n",
    "               (imdb_ratings_count > @min_ratings_number)\")\n",
    "\n",
    "df['diff']=df['db_rating']-df['imdb_rating']\n",
    "df['imdb_rank'] = df['imdb_rating'].rank()/len(df)*100\n",
    "df['db_rank'] = df['db_rating'].rank()/len(df)*100\n",
    "df['rank_diff']=df['db_rank']-df['imdb_rank']\n",
    "df.describe()"
   ]
  },
  {
   "cell_type": "code",
   "execution_count": null,
   "metadata": {
    "collapsed": false
   },
   "outputs": [],
   "source": [
    "bins=linspace(0,10)\n",
    "df['imdb_rating'].hist(bins=bins, alpha=0.5, normed=True, label = 'IMDB')\n",
    "df['db_rating'].hist(bins=bins,alpha=0.5, normed=True, label = 'douban')\n",
    "plt_configure(title='IMDB vs. Douban Rating', legend=True)"
   ]
  },
  {
   "cell_type": "markdown",
   "metadata": {},
   "source": [
    "### 4.1.1 Best Movies"
   ]
  },
  {
   "cell_type": "code",
   "execution_count": null,
   "metadata": {
    "collapsed": false
   },
   "outputs": [],
   "source": [
    "# df.sort_values(by='imdb_rating',ascending=False).head()\n",
    "movie_list(df.sort_values(by='imdb_rating',ascending=False)[:20])"
   ]
  },
  {
   "cell_type": "code",
   "execution_count": null,
   "metadata": {
    "collapsed": false
   },
   "outputs": [],
   "source": [
    "plt.subplot(1,2,1)\n",
    "df['diff'].hist(bins=40,figsize=(15, 3))\n",
    "plt.xlabel('diff')\n",
    "plt.subplot(1,2,2)\n",
    "df['rank_diff'].hist(bins=40)\n",
    "plt.xlabel('rank_diff')"
   ]
  },
  {
   "cell_type": "markdown",
   "metadata": {},
   "source": [
    "## 4.2 Scatter Comparison"
   ]
  },
  {
   "cell_type": "code",
   "execution_count": null,
   "metadata": {
    "collapsed": false
   },
   "outputs": [],
   "source": [
    "fig, _ , scatter_plot = plot_movie_scatter_comparison(df, title='')"
   ]
  },
  {
   "cell_type": "code",
   "execution_count": null,
   "metadata": {
    "collapsed": false
   },
   "outputs": [],
   "source": [
    "turn_scatter_into_interactive(fig, scatter_plot, df, 'movie_compare.html')"
   ]
  },
  {
   "cell_type": "markdown",
   "metadata": {},
   "source": [
    "1. 对比前后scatter plot, 总体趋势是不变的\n",
    "2. Play with the Scatter Plot， 看看有哪些电影差别很大:\n",
    "\n",
    "    1. 回归线以上，IMDB >> 豆瓣；回归线以下，豆瓣 >> IMDB\n",
    "    2. 总体而言，豆瓣评分确实更分散，(7,4.5)附近的一个cluster, 可以算作典型的偏离\n",
    "    3. 这些偏离的电影，有何规律？"
   ]
  },
  {
   "cell_type": "markdown",
   "metadata": {},
   "source": [
    "## 4.3 Absolute Difference"
   ]
  },
  {
   "cell_type": "markdown",
   "metadata": {},
   "source": [
    "先查看绝对分值差别大的电影， 再看相对差别大的电影（类似于回归线）"
   ]
  },
  {
   "cell_type": "markdown",
   "metadata": {},
   "source": [
    "### 4.3.1 豆瓣 >> IMDB"
   ]
  },
  {
   "cell_type": "code",
   "execution_count": null,
   "metadata": {
    "collapsed": false
   },
   "outputs": [],
   "source": [
    "# df.sort_values(by='diff',ascending=False).head()\n",
    "movie_list(df.sort_values(by='diff',ascending=False))"
   ]
  },
  {
   "cell_type": "markdown",
   "metadata": {},
   "source": [
    "### 4.3.2 IMDB >> 豆瓣"
   ]
  },
  {
   "cell_type": "code",
   "execution_count": null,
   "metadata": {
    "collapsed": false
   },
   "outputs": [],
   "source": [
    "# df.sort_values(by='diff',ascending=False).head()\n",
    "movie_list(df.sort_values(by='diff',ascending=True))"
   ]
  },
  {
   "cell_type": "markdown",
   "metadata": {},
   "source": [
    "## 4.4 Rank Difference"
   ]
  },
  {
   "cell_type": "markdown",
   "metadata": {},
   "source": [
    "### 4.4.1 Douban >> IMDB"
   ]
  },
  {
   "cell_type": "code",
   "execution_count": null,
   "metadata": {
    "collapsed": false
   },
   "outputs": [],
   "source": [
    "# df.sort_values(by='rank_diff',ascending=False).head()\n",
    "movie_list(df.sort_values(by='rank_diff',ascending=False))"
   ]
  },
  {
   "cell_type": "markdown",
   "metadata": {},
   "source": [
    "### 4.4.1 IMDB >> 豆瓣"
   ]
  },
  {
   "cell_type": "code",
   "execution_count": null,
   "metadata": {
    "collapsed": false
   },
   "outputs": [],
   "source": [
    "movie_list(df.sort_values(by='rank_diff',ascending=True))"
   ]
  },
  {
   "cell_type": "markdown",
   "metadata": {},
   "source": [
    "我观察到的规律: 似乎很多动画的评分，差别很大，例如：\n",
    "1. 蓝精灵\n",
    "2. Rio\n",
    "3. 冰川时代\n",
    "4. 疯狂原始人\n",
    "\n",
    "那么，是不是存在某类电影，评分差别会很大？\n",
    "\n",
    "接下来，按类别分析"
   ]
  },
  {
   "cell_type": "markdown",
   "metadata": {},
   "source": [
    "# 5. Genre Comparison"
   ]
  },
  {
   "cell_type": "code",
   "execution_count": null,
   "metadata": {
    "collapsed": true
   },
   "outputs": [],
   "source": [
    "def category_overview(df, category):   \n",
    "    sub_df = df[df['genre'].str.contains(category)]\n",
    "    fig, _ , scatter_plot = plot_movie_scatter_comparison(sub_df)\n",
    "    print len(sub_df)"
   ]
  },
  {
   "cell_type": "code",
   "execution_count": null,
   "metadata": {
    "collapsed": false
   },
   "outputs": [],
   "source": [
    "for category in [\"Romance\", \"Drama\", \"Action\", 'Sci-Fi', 'Animation', 'Mystery', 'Crime', 'Adventure', 'Documentary', 'Comedy']:\n",
    "    category_overview(df, category)\n",
    "    plt_configure(title=category)\n",
    "    plt.gcf().set_size_inches(2.5,2.5)\n",
    "align_figures()"
   ]
  },
  {
   "cell_type": "markdown",
   "metadata": {},
   "source": [
    "可以发现，动画和其他类别，显著不同。具体画如下"
   ]
  },
  {
   "cell_type": "code",
   "execution_count": null,
   "metadata": {
    "collapsed": false
   },
   "outputs": [],
   "source": [
    "sub_df = df[df['genre'].str.contains('Animation')]\n",
    "fig, _ , scatter_plot = plot_movie_scatter_comparison(sub_df)"
   ]
  },
  {
   "cell_type": "code",
   "execution_count": null,
   "metadata": {
    "collapsed": false
   },
   "outputs": [],
   "source": [
    "turn_scatter_into_interactive(fig, scatter_plot, sub_df, 'animation_movies.html')"
   ]
  }
 ],
 "metadata": {
  "anaconda-cloud": {},
  "kernelspec": {
   "display_name": "Python [Root]",
   "language": "python",
   "name": "Python [Root]"
  },
  "language_info": {
   "codemirror_mode": {
    "name": "ipython",
    "version": 2
   },
   "file_extension": ".py",
   "mimetype": "text/x-python",
   "name": "python",
   "nbconvert_exporter": "python",
   "pygments_lexer": "ipython2",
   "version": "2.7.12"
  },
  "toc": {
   "toc_cell": false,
   "toc_number_sections": false,
   "toc_threshold": 6,
   "toc_window_display": false
  }
 },
 "nbformat": 4,
 "nbformat_minor": 0
}
